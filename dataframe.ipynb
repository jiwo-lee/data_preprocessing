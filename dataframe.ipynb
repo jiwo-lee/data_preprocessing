{
 "cells": [
  {
   "cell_type": "code",
   "execution_count": 1,
   "id": "9309b107-8e6b-47ca-bb92-a9668786e484",
   "metadata": {},
   "outputs": [],
   "source": [
    "import pandas as pd\n",
    "\n",
    "df = pd.read_csv('국영수.csv', encoding='cp949')"
   ]
  },
  {
   "cell_type": "code",
   "execution_count": 2,
   "id": "b2f5a714-4cfd-4445-aecd-69204dac07db",
   "metadata": {},
   "outputs": [
    {
     "data": {
      "text/html": [
       "<div>\n",
       "<style scoped>\n",
       "    .dataframe tbody tr th:only-of-type {\n",
       "        vertical-align: middle;\n",
       "    }\n",
       "\n",
       "    .dataframe tbody tr th {\n",
       "        vertical-align: top;\n",
       "    }\n",
       "\n",
       "    .dataframe thead th {\n",
       "        text-align: right;\n",
       "    }\n",
       "</style>\n",
       "<table border=\"1\" class=\"dataframe\">\n",
       "  <thead>\n",
       "    <tr style=\"text-align: right;\">\n",
       "      <th></th>\n",
       "      <th>국어</th>\n",
       "      <th>영어</th>\n",
       "      <th>수학</th>\n",
       "      <th>체육</th>\n",
       "    </tr>\n",
       "  </thead>\n",
       "  <tbody>\n",
       "    <tr>\n",
       "      <th>0</th>\n",
       "      <td>50</td>\n",
       "      <td>88</td>\n",
       "      <td>21</td>\n",
       "      <td>상</td>\n",
       "    </tr>\n",
       "    <tr>\n",
       "      <th>1</th>\n",
       "      <td>41</td>\n",
       "      <td>87</td>\n",
       "      <td>54</td>\n",
       "      <td>중</td>\n",
       "    </tr>\n",
       "    <tr>\n",
       "      <th>2</th>\n",
       "      <td>85</td>\n",
       "      <td>65</td>\n",
       "      <td>84</td>\n",
       "      <td>하</td>\n",
       "    </tr>\n",
       "    <tr>\n",
       "      <th>3</th>\n",
       "      <td>61</td>\n",
       "      <td>85</td>\n",
       "      <td>13</td>\n",
       "      <td>상</td>\n",
       "    </tr>\n",
       "    <tr>\n",
       "      <th>4</th>\n",
       "      <td>54</td>\n",
       "      <td>41</td>\n",
       "      <td>21</td>\n",
       "      <td>중</td>\n",
       "    </tr>\n",
       "    <tr>\n",
       "      <th>5</th>\n",
       "      <td>84</td>\n",
       "      <td>47</td>\n",
       "      <td>87</td>\n",
       "      <td>하</td>\n",
       "    </tr>\n",
       "    <tr>\n",
       "      <th>6</th>\n",
       "      <td>77</td>\n",
       "      <td>98</td>\n",
       "      <td>65</td>\n",
       "      <td>상</td>\n",
       "    </tr>\n",
       "    <tr>\n",
       "      <th>7</th>\n",
       "      <td>87</td>\n",
       "      <td>58</td>\n",
       "      <td>54</td>\n",
       "      <td>중</td>\n",
       "    </tr>\n",
       "    <tr>\n",
       "      <th>8</th>\n",
       "      <td>54</td>\n",
       "      <td>22</td>\n",
       "      <td>78</td>\n",
       "      <td>하</td>\n",
       "    </tr>\n",
       "  </tbody>\n",
       "</table>\n",
       "</div>"
      ],
      "text/plain": [
       "   국어  영어  수학 체육\n",
       "0  50  88  21  상\n",
       "1  41  87  54  중\n",
       "2  85  65  84  하\n",
       "3  61  85  13  상\n",
       "4  54  41  21  중\n",
       "5  84  47  87  하\n",
       "6  77  98  65  상\n",
       "7  87  58  54  중\n",
       "8  54  22  78  하"
      ]
     },
     "execution_count": 2,
     "metadata": {},
     "output_type": "execute_result"
    }
   ],
   "source": [
    "df"
   ]
  },
  {
   "cell_type": "code",
   "execution_count": 3,
   "id": "36fe3264-0e86-4142-9a87-35f8c38f3aa5",
   "metadata": {},
   "outputs": [
    {
     "data": {
      "text/plain": [
       "(9, 4)"
      ]
     },
     "execution_count": 3,
     "metadata": {},
     "output_type": "execute_result"
    }
   ],
   "source": [
    "df.shape"
   ]
  },
  {
   "cell_type": "code",
   "execution_count": 4,
   "id": "4962f693-b798-4bc2-b664-89d5fcde5fba",
   "metadata": {},
   "outputs": [
    {
     "data": {
      "text/plain": [
       "Index(['국어', '영어', '수학', '체육'], dtype='object')"
      ]
     },
     "execution_count": 4,
     "metadata": {},
     "output_type": "execute_result"
    }
   ],
   "source": [
    "df.columns"
   ]
  },
  {
   "cell_type": "code",
   "execution_count": 5,
   "id": "fc12c4f7-0ffc-4ddd-a2df-f4bfa632532c",
   "metadata": {},
   "outputs": [
    {
     "data": {
      "text/plain": [
       "국어     int64\n",
       "영어     int64\n",
       "수학     int64\n",
       "체육    object\n",
       "dtype: object"
      ]
     },
     "execution_count": 5,
     "metadata": {},
     "output_type": "execute_result"
    }
   ],
   "source": [
    "df.dtypes"
   ]
  },
  {
   "cell_type": "code",
   "execution_count": 6,
   "id": "1af5155e-b75d-4ab1-b91f-1afd62985d08",
   "metadata": {},
   "outputs": [
    {
     "data": {
      "text/html": [
       "<div>\n",
       "<style scoped>\n",
       "    .dataframe tbody tr th:only-of-type {\n",
       "        vertical-align: middle;\n",
       "    }\n",
       "\n",
       "    .dataframe tbody tr th {\n",
       "        vertical-align: top;\n",
       "    }\n",
       "\n",
       "    .dataframe thead th {\n",
       "        text-align: right;\n",
       "    }\n",
       "</style>\n",
       "<table border=\"1\" class=\"dataframe\">\n",
       "  <thead>\n",
       "    <tr style=\"text-align: right;\">\n",
       "      <th></th>\n",
       "      <th>국어</th>\n",
       "      <th>영어</th>\n",
       "      <th>수학</th>\n",
       "    </tr>\n",
       "  </thead>\n",
       "  <tbody>\n",
       "    <tr>\n",
       "      <th>count</th>\n",
       "      <td>9.000000</td>\n",
       "      <td>9.000000</td>\n",
       "      <td>9.000000</td>\n",
       "    </tr>\n",
       "    <tr>\n",
       "      <th>mean</th>\n",
       "      <td>65.888889</td>\n",
       "      <td>65.666667</td>\n",
       "      <td>53.000000</td>\n",
       "    </tr>\n",
       "    <tr>\n",
       "      <th>std</th>\n",
       "      <td>17.467430</td>\n",
       "      <td>25.729361</td>\n",
       "      <td>28.583212</td>\n",
       "    </tr>\n",
       "    <tr>\n",
       "      <th>min</th>\n",
       "      <td>41.000000</td>\n",
       "      <td>22.000000</td>\n",
       "      <td>13.000000</td>\n",
       "    </tr>\n",
       "    <tr>\n",
       "      <th>25%</th>\n",
       "      <td>54.000000</td>\n",
       "      <td>47.000000</td>\n",
       "      <td>21.000000</td>\n",
       "    </tr>\n",
       "    <tr>\n",
       "      <th>50%</th>\n",
       "      <td>61.000000</td>\n",
       "      <td>65.000000</td>\n",
       "      <td>54.000000</td>\n",
       "    </tr>\n",
       "    <tr>\n",
       "      <th>75%</th>\n",
       "      <td>84.000000</td>\n",
       "      <td>87.000000</td>\n",
       "      <td>78.000000</td>\n",
       "    </tr>\n",
       "    <tr>\n",
       "      <th>max</th>\n",
       "      <td>87.000000</td>\n",
       "      <td>98.000000</td>\n",
       "      <td>87.000000</td>\n",
       "    </tr>\n",
       "  </tbody>\n",
       "</table>\n",
       "</div>"
      ],
      "text/plain": [
       "              국어         영어         수학\n",
       "count   9.000000   9.000000   9.000000\n",
       "mean   65.888889  65.666667  53.000000\n",
       "std    17.467430  25.729361  28.583212\n",
       "min    41.000000  22.000000  13.000000\n",
       "25%    54.000000  47.000000  21.000000\n",
       "50%    61.000000  65.000000  54.000000\n",
       "75%    84.000000  87.000000  78.000000\n",
       "max    87.000000  98.000000  87.000000"
      ]
     },
     "execution_count": 6,
     "metadata": {},
     "output_type": "execute_result"
    }
   ],
   "source": [
    "df.describe()"
   ]
  },
  {
   "cell_type": "code",
   "execution_count": 7,
   "id": "41252d74-20be-497b-89ba-e21f7227fe4c",
   "metadata": {},
   "outputs": [
    {
     "data": {
      "text/html": [
       "<div>\n",
       "<style scoped>\n",
       "    .dataframe tbody tr th:only-of-type {\n",
       "        vertical-align: middle;\n",
       "    }\n",
       "\n",
       "    .dataframe tbody tr th {\n",
       "        vertical-align: top;\n",
       "    }\n",
       "\n",
       "    .dataframe thead th {\n",
       "        text-align: right;\n",
       "    }\n",
       "</style>\n",
       "<table border=\"1\" class=\"dataframe\">\n",
       "  <thead>\n",
       "    <tr style=\"text-align: right;\">\n",
       "      <th></th>\n",
       "      <th>국어</th>\n",
       "      <th>영어</th>\n",
       "      <th>수학</th>\n",
       "      <th>체육</th>\n",
       "    </tr>\n",
       "  </thead>\n",
       "  <tbody>\n",
       "    <tr>\n",
       "      <th>0</th>\n",
       "      <td>50</td>\n",
       "      <td>88</td>\n",
       "      <td>21</td>\n",
       "      <td>상</td>\n",
       "    </tr>\n",
       "    <tr>\n",
       "      <th>1</th>\n",
       "      <td>41</td>\n",
       "      <td>87</td>\n",
       "      <td>54</td>\n",
       "      <td>중</td>\n",
       "    </tr>\n",
       "    <tr>\n",
       "      <th>2</th>\n",
       "      <td>85</td>\n",
       "      <td>65</td>\n",
       "      <td>84</td>\n",
       "      <td>하</td>\n",
       "    </tr>\n",
       "    <tr>\n",
       "      <th>3</th>\n",
       "      <td>61</td>\n",
       "      <td>85</td>\n",
       "      <td>13</td>\n",
       "      <td>상</td>\n",
       "    </tr>\n",
       "    <tr>\n",
       "      <th>4</th>\n",
       "      <td>54</td>\n",
       "      <td>41</td>\n",
       "      <td>21</td>\n",
       "      <td>중</td>\n",
       "    </tr>\n",
       "  </tbody>\n",
       "</table>\n",
       "</div>"
      ],
      "text/plain": [
       "   국어  영어  수학 체육\n",
       "0  50  88  21  상\n",
       "1  41  87  54  중\n",
       "2  85  65  84  하\n",
       "3  61  85  13  상\n",
       "4  54  41  21  중"
      ]
     },
     "execution_count": 7,
     "metadata": {},
     "output_type": "execute_result"
    }
   ],
   "source": [
    "df.head()"
   ]
  },
  {
   "cell_type": "code",
   "execution_count": 8,
   "id": "fd5c110a-b74c-4e72-9fe8-b1a3c392657d",
   "metadata": {},
   "outputs": [
    {
     "data": {
      "text/html": [
       "<div>\n",
       "<style scoped>\n",
       "    .dataframe tbody tr th:only-of-type {\n",
       "        vertical-align: middle;\n",
       "    }\n",
       "\n",
       "    .dataframe tbody tr th {\n",
       "        vertical-align: top;\n",
       "    }\n",
       "\n",
       "    .dataframe thead th {\n",
       "        text-align: right;\n",
       "    }\n",
       "</style>\n",
       "<table border=\"1\" class=\"dataframe\">\n",
       "  <thead>\n",
       "    <tr style=\"text-align: right;\">\n",
       "      <th></th>\n",
       "      <th>국어</th>\n",
       "      <th>영어</th>\n",
       "      <th>수학</th>\n",
       "      <th>체육</th>\n",
       "    </tr>\n",
       "  </thead>\n",
       "  <tbody>\n",
       "    <tr>\n",
       "      <th>4</th>\n",
       "      <td>54</td>\n",
       "      <td>41</td>\n",
       "      <td>21</td>\n",
       "      <td>중</td>\n",
       "    </tr>\n",
       "    <tr>\n",
       "      <th>5</th>\n",
       "      <td>84</td>\n",
       "      <td>47</td>\n",
       "      <td>87</td>\n",
       "      <td>하</td>\n",
       "    </tr>\n",
       "    <tr>\n",
       "      <th>6</th>\n",
       "      <td>77</td>\n",
       "      <td>98</td>\n",
       "      <td>65</td>\n",
       "      <td>상</td>\n",
       "    </tr>\n",
       "    <tr>\n",
       "      <th>7</th>\n",
       "      <td>87</td>\n",
       "      <td>58</td>\n",
       "      <td>54</td>\n",
       "      <td>중</td>\n",
       "    </tr>\n",
       "    <tr>\n",
       "      <th>8</th>\n",
       "      <td>54</td>\n",
       "      <td>22</td>\n",
       "      <td>78</td>\n",
       "      <td>하</td>\n",
       "    </tr>\n",
       "  </tbody>\n",
       "</table>\n",
       "</div>"
      ],
      "text/plain": [
       "   국어  영어  수학 체육\n",
       "4  54  41  21  중\n",
       "5  84  47  87  하\n",
       "6  77  98  65  상\n",
       "7  87  58  54  중\n",
       "8  54  22  78  하"
      ]
     },
     "execution_count": 8,
     "metadata": {},
     "output_type": "execute_result"
    }
   ],
   "source": [
    "df.tail()"
   ]
  },
  {
   "cell_type": "code",
   "execution_count": 9,
   "id": "e0882e88-e396-499a-b866-23ffe84af44e",
   "metadata": {},
   "outputs": [
    {
     "data": {
      "text/plain": [
       "<bound method NDFrame._add_numeric_operations.<locals>.sum of       국어     영어     수학     체육\n",
       "0  False  False  False  False\n",
       "1  False  False  False  False\n",
       "2  False  False  False  False\n",
       "3  False  False  False  False\n",
       "4  False  False  False  False\n",
       "5  False  False  False  False\n",
       "6  False  False  False  False\n",
       "7  False  False  False  False\n",
       "8  False  False  False  False>"
      ]
     },
     "execution_count": 9,
     "metadata": {},
     "output_type": "execute_result"
    }
   ],
   "source": [
    "df.isnull().sum"
   ]
  },
  {
   "cell_type": "code",
   "execution_count": 10,
   "id": "7c313b76-e058-42d2-9cfe-1c40a529763f",
   "metadata": {},
   "outputs": [
    {
     "data": {
      "text/plain": [
       "체육\n",
       "상    3\n",
       "중    3\n",
       "하    3\n",
       "Name: count, dtype: int64"
      ]
     },
     "execution_count": 10,
     "metadata": {},
     "output_type": "execute_result"
    }
   ],
   "source": [
    "df['체육'].value_counts()"
   ]
  },
  {
   "cell_type": "code",
   "execution_count": 11,
   "id": "c45e635a-8153-4e4a-babd-f552b2170ba1",
   "metadata": {},
   "outputs": [
    {
     "data": {
      "text/plain": [
       "3"
      ]
     },
     "execution_count": 11,
     "metadata": {},
     "output_type": "execute_result"
    }
   ],
   "source": [
    "df['체육'].nunique()"
   ]
  },
  {
   "cell_type": "code",
   "execution_count": 12,
   "id": "dfb23ddd-abf4-4ca0-95c7-256457563565",
   "metadata": {},
   "outputs": [
    {
     "data": {
      "text/plain": [
       "array(['상', '중', '하'], dtype=object)"
      ]
     },
     "execution_count": 12,
     "metadata": {},
     "output_type": "execute_result"
    }
   ],
   "source": [
    "df['체육'].unique()"
   ]
  },
  {
   "cell_type": "code",
   "execution_count": 13,
   "id": "eb2e184c-2794-435b-9437-a493ea400952",
   "metadata": {},
   "outputs": [
    {
     "data": {
      "text/plain": [
       "0    50\n",
       "1    41\n",
       "2    85\n",
       "3    61\n",
       "4    54\n",
       "5    84\n",
       "6    77\n",
       "7    87\n",
       "8    54\n",
       "Name: 국어, dtype: int64"
      ]
     },
     "execution_count": 13,
     "metadata": {},
     "output_type": "execute_result"
    }
   ],
   "source": [
    "df['국어']"
   ]
  },
  {
   "cell_type": "code",
   "execution_count": 14,
   "id": "ab4bdbbe-83b5-4a4e-bb04-a34d6ba4408d",
   "metadata": {},
   "outputs": [],
   "source": [
    "df['평균'] = (df['국어']+df['영어']+df['수학'])/3"
   ]
  },
  {
   "cell_type": "code",
   "execution_count": 15,
   "id": "ec32404c-1d53-490f-8f4e-d3e7ec28a5cf",
   "metadata": {},
   "outputs": [
    {
     "data": {
      "text/html": [
       "<div>\n",
       "<style scoped>\n",
       "    .dataframe tbody tr th:only-of-type {\n",
       "        vertical-align: middle;\n",
       "    }\n",
       "\n",
       "    .dataframe tbody tr th {\n",
       "        vertical-align: top;\n",
       "    }\n",
       "\n",
       "    .dataframe thead th {\n",
       "        text-align: right;\n",
       "    }\n",
       "</style>\n",
       "<table border=\"1\" class=\"dataframe\">\n",
       "  <thead>\n",
       "    <tr style=\"text-align: right;\">\n",
       "      <th></th>\n",
       "      <th>국어</th>\n",
       "      <th>영어</th>\n",
       "      <th>수학</th>\n",
       "      <th>체육</th>\n",
       "      <th>평균</th>\n",
       "    </tr>\n",
       "  </thead>\n",
       "  <tbody>\n",
       "    <tr>\n",
       "      <th>0</th>\n",
       "      <td>50</td>\n",
       "      <td>88</td>\n",
       "      <td>21</td>\n",
       "      <td>상</td>\n",
       "      <td>53.000000</td>\n",
       "    </tr>\n",
       "    <tr>\n",
       "      <th>1</th>\n",
       "      <td>41</td>\n",
       "      <td>87</td>\n",
       "      <td>54</td>\n",
       "      <td>중</td>\n",
       "      <td>60.666667</td>\n",
       "    </tr>\n",
       "    <tr>\n",
       "      <th>2</th>\n",
       "      <td>85</td>\n",
       "      <td>65</td>\n",
       "      <td>84</td>\n",
       "      <td>하</td>\n",
       "      <td>78.000000</td>\n",
       "    </tr>\n",
       "    <tr>\n",
       "      <th>3</th>\n",
       "      <td>61</td>\n",
       "      <td>85</td>\n",
       "      <td>13</td>\n",
       "      <td>상</td>\n",
       "      <td>53.000000</td>\n",
       "    </tr>\n",
       "    <tr>\n",
       "      <th>4</th>\n",
       "      <td>54</td>\n",
       "      <td>41</td>\n",
       "      <td>21</td>\n",
       "      <td>중</td>\n",
       "      <td>38.666667</td>\n",
       "    </tr>\n",
       "    <tr>\n",
       "      <th>5</th>\n",
       "      <td>84</td>\n",
       "      <td>47</td>\n",
       "      <td>87</td>\n",
       "      <td>하</td>\n",
       "      <td>72.666667</td>\n",
       "    </tr>\n",
       "    <tr>\n",
       "      <th>6</th>\n",
       "      <td>77</td>\n",
       "      <td>98</td>\n",
       "      <td>65</td>\n",
       "      <td>상</td>\n",
       "      <td>80.000000</td>\n",
       "    </tr>\n",
       "    <tr>\n",
       "      <th>7</th>\n",
       "      <td>87</td>\n",
       "      <td>58</td>\n",
       "      <td>54</td>\n",
       "      <td>중</td>\n",
       "      <td>66.333333</td>\n",
       "    </tr>\n",
       "    <tr>\n",
       "      <th>8</th>\n",
       "      <td>54</td>\n",
       "      <td>22</td>\n",
       "      <td>78</td>\n",
       "      <td>하</td>\n",
       "      <td>51.333333</td>\n",
       "    </tr>\n",
       "  </tbody>\n",
       "</table>\n",
       "</div>"
      ],
      "text/plain": [
       "   국어  영어  수학 체육         평균\n",
       "0  50  88  21  상  53.000000\n",
       "1  41  87  54  중  60.666667\n",
       "2  85  65  84  하  78.000000\n",
       "3  61  85  13  상  53.000000\n",
       "4  54  41  21  중  38.666667\n",
       "5  84  47  87  하  72.666667\n",
       "6  77  98  65  상  80.000000\n",
       "7  87  58  54  중  66.333333\n",
       "8  54  22  78  하  51.333333"
      ]
     },
     "execution_count": 15,
     "metadata": {},
     "output_type": "execute_result"
    }
   ],
   "source": [
    "df"
   ]
  },
  {
   "cell_type": "code",
   "execution_count": 16,
   "id": "85b27103-cc74-4e85-8952-77a4cd047733",
   "metadata": {},
   "outputs": [
    {
     "data": {
      "text/html": [
       "<div>\n",
       "<style scoped>\n",
       "    .dataframe tbody tr th:only-of-type {\n",
       "        vertical-align: middle;\n",
       "    }\n",
       "\n",
       "    .dataframe tbody tr th {\n",
       "        vertical-align: top;\n",
       "    }\n",
       "\n",
       "    .dataframe thead th {\n",
       "        text-align: right;\n",
       "    }\n",
       "</style>\n",
       "<table border=\"1\" class=\"dataframe\">\n",
       "  <thead>\n",
       "    <tr style=\"text-align: right;\">\n",
       "      <th></th>\n",
       "      <th>국어</th>\n",
       "      <th>수학</th>\n",
       "      <th>영어</th>\n",
       "    </tr>\n",
       "  </thead>\n",
       "  <tbody>\n",
       "    <tr>\n",
       "      <th>0</th>\n",
       "      <td>50</td>\n",
       "      <td>21</td>\n",
       "      <td>88</td>\n",
       "    </tr>\n",
       "    <tr>\n",
       "      <th>1</th>\n",
       "      <td>41</td>\n",
       "      <td>54</td>\n",
       "      <td>87</td>\n",
       "    </tr>\n",
       "    <tr>\n",
       "      <th>2</th>\n",
       "      <td>85</td>\n",
       "      <td>84</td>\n",
       "      <td>65</td>\n",
       "    </tr>\n",
       "    <tr>\n",
       "      <th>3</th>\n",
       "      <td>61</td>\n",
       "      <td>13</td>\n",
       "      <td>85</td>\n",
       "    </tr>\n",
       "    <tr>\n",
       "      <th>4</th>\n",
       "      <td>54</td>\n",
       "      <td>21</td>\n",
       "      <td>41</td>\n",
       "    </tr>\n",
       "    <tr>\n",
       "      <th>5</th>\n",
       "      <td>84</td>\n",
       "      <td>87</td>\n",
       "      <td>47</td>\n",
       "    </tr>\n",
       "    <tr>\n",
       "      <th>6</th>\n",
       "      <td>77</td>\n",
       "      <td>65</td>\n",
       "      <td>98</td>\n",
       "    </tr>\n",
       "    <tr>\n",
       "      <th>7</th>\n",
       "      <td>87</td>\n",
       "      <td>54</td>\n",
       "      <td>58</td>\n",
       "    </tr>\n",
       "    <tr>\n",
       "      <th>8</th>\n",
       "      <td>54</td>\n",
       "      <td>78</td>\n",
       "      <td>22</td>\n",
       "    </tr>\n",
       "  </tbody>\n",
       "</table>\n",
       "</div>"
      ],
      "text/plain": [
       "   국어  수학  영어\n",
       "0  50  21  88\n",
       "1  41  54  87\n",
       "2  85  84  65\n",
       "3  61  13  85\n",
       "4  54  21  41\n",
       "5  84  87  47\n",
       "6  77  65  98\n",
       "7  87  54  58\n",
       "8  54  78  22"
      ]
     },
     "execution_count": 16,
     "metadata": {},
     "output_type": "execute_result"
    }
   ],
   "source": [
    "columns = ['국어', '수학', '영어']\n",
    "selected_columns = df[columns]\n",
    "\n",
    "selected_columns"
   ]
  },
  {
   "cell_type": "code",
   "execution_count": 17,
   "id": "de6de340-73b8-4bc3-a22a-dbc25a8fe1ac",
   "metadata": {},
   "outputs": [
    {
     "data": {
      "text/html": [
       "<div>\n",
       "<style scoped>\n",
       "    .dataframe tbody tr th:only-of-type {\n",
       "        vertical-align: middle;\n",
       "    }\n",
       "\n",
       "    .dataframe tbody tr th {\n",
       "        vertical-align: top;\n",
       "    }\n",
       "\n",
       "    .dataframe thead th {\n",
       "        text-align: right;\n",
       "    }\n",
       "</style>\n",
       "<table border=\"1\" class=\"dataframe\">\n",
       "  <thead>\n",
       "    <tr style=\"text-align: right;\">\n",
       "      <th></th>\n",
       "      <th>국어</th>\n",
       "      <th>영어</th>\n",
       "      <th>수학</th>\n",
       "    </tr>\n",
       "  </thead>\n",
       "  <tbody>\n",
       "    <tr>\n",
       "      <th>0</th>\n",
       "      <td>50</td>\n",
       "      <td>88</td>\n",
       "      <td>21</td>\n",
       "    </tr>\n",
       "    <tr>\n",
       "      <th>1</th>\n",
       "      <td>41</td>\n",
       "      <td>87</td>\n",
       "      <td>54</td>\n",
       "    </tr>\n",
       "    <tr>\n",
       "      <th>2</th>\n",
       "      <td>85</td>\n",
       "      <td>65</td>\n",
       "      <td>84</td>\n",
       "    </tr>\n",
       "    <tr>\n",
       "      <th>3</th>\n",
       "      <td>61</td>\n",
       "      <td>85</td>\n",
       "      <td>13</td>\n",
       "    </tr>\n",
       "    <tr>\n",
       "      <th>4</th>\n",
       "      <td>54</td>\n",
       "      <td>41</td>\n",
       "      <td>21</td>\n",
       "    </tr>\n",
       "    <tr>\n",
       "      <th>5</th>\n",
       "      <td>84</td>\n",
       "      <td>47</td>\n",
       "      <td>87</td>\n",
       "    </tr>\n",
       "    <tr>\n",
       "      <th>6</th>\n",
       "      <td>77</td>\n",
       "      <td>98</td>\n",
       "      <td>65</td>\n",
       "    </tr>\n",
       "    <tr>\n",
       "      <th>7</th>\n",
       "      <td>87</td>\n",
       "      <td>58</td>\n",
       "      <td>54</td>\n",
       "    </tr>\n",
       "    <tr>\n",
       "      <th>8</th>\n",
       "      <td>54</td>\n",
       "      <td>22</td>\n",
       "      <td>78</td>\n",
       "    </tr>\n",
       "  </tbody>\n",
       "</table>\n",
       "</div>"
      ],
      "text/plain": [
       "   국어  영어  수학\n",
       "0  50  88  21\n",
       "1  41  87  54\n",
       "2  85  65  84\n",
       "3  61  85  13\n",
       "4  54  41  21\n",
       "5  84  47  87\n",
       "6  77  98  65\n",
       "7  87  58  54\n",
       "8  54  22  78"
      ]
     },
     "execution_count": 17,
     "metadata": {},
     "output_type": "execute_result"
    }
   ],
   "source": [
    "df[['국어', '영어', '수학']]"
   ]
  },
  {
   "cell_type": "code",
   "execution_count": 18,
   "id": "b0c86844-bc21-4f8f-b87e-0621911e17bc",
   "metadata": {},
   "outputs": [
    {
     "data": {
      "text/html": [
       "<div>\n",
       "<style scoped>\n",
       "    .dataframe tbody tr th:only-of-type {\n",
       "        vertical-align: middle;\n",
       "    }\n",
       "\n",
       "    .dataframe tbody tr th {\n",
       "        vertical-align: top;\n",
       "    }\n",
       "\n",
       "    .dataframe thead th {\n",
       "        text-align: right;\n",
       "    }\n",
       "</style>\n",
       "<table border=\"1\" class=\"dataframe\">\n",
       "  <thead>\n",
       "    <tr style=\"text-align: right;\">\n",
       "      <th></th>\n",
       "      <th>국어</th>\n",
       "      <th>수학</th>\n",
       "      <th>영어</th>\n",
       "    </tr>\n",
       "  </thead>\n",
       "  <tbody>\n",
       "    <tr>\n",
       "      <th>0</th>\n",
       "      <td>50</td>\n",
       "      <td>21</td>\n",
       "      <td>88</td>\n",
       "    </tr>\n",
       "    <tr>\n",
       "      <th>1</th>\n",
       "      <td>41</td>\n",
       "      <td>54</td>\n",
       "      <td>87</td>\n",
       "    </tr>\n",
       "    <tr>\n",
       "      <th>2</th>\n",
       "      <td>85</td>\n",
       "      <td>84</td>\n",
       "      <td>65</td>\n",
       "    </tr>\n",
       "    <tr>\n",
       "      <th>3</th>\n",
       "      <td>61</td>\n",
       "      <td>13</td>\n",
       "      <td>85</td>\n",
       "    </tr>\n",
       "  </tbody>\n",
       "</table>\n",
       "</div>"
      ],
      "text/plain": [
       "   국어  수학  영어\n",
       "0  50  21  88\n",
       "1  41  54  87\n",
       "2  85  84  65\n",
       "3  61  13  85"
      ]
     },
     "execution_count": 18,
     "metadata": {},
     "output_type": "execute_result"
    }
   ],
   "source": [
    "df.loc[:3,columns]"
   ]
  },
  {
   "cell_type": "code",
   "execution_count": 19,
   "id": "98d4b4c0-b689-4d77-9599-c5ee27576663",
   "metadata": {},
   "outputs": [
    {
     "data": {
      "text/html": [
       "<div>\n",
       "<style scoped>\n",
       "    .dataframe tbody tr th:only-of-type {\n",
       "        vertical-align: middle;\n",
       "    }\n",
       "\n",
       "    .dataframe tbody tr th {\n",
       "        vertical-align: top;\n",
       "    }\n",
       "\n",
       "    .dataframe thead th {\n",
       "        text-align: right;\n",
       "    }\n",
       "</style>\n",
       "<table border=\"1\" class=\"dataframe\">\n",
       "  <thead>\n",
       "    <tr style=\"text-align: right;\">\n",
       "      <th></th>\n",
       "      <th>국어</th>\n",
       "      <th>영어</th>\n",
       "      <th>수학</th>\n",
       "      <th>체육</th>\n",
       "    </tr>\n",
       "  </thead>\n",
       "  <tbody>\n",
       "    <tr>\n",
       "      <th>0</th>\n",
       "      <td>50</td>\n",
       "      <td>88</td>\n",
       "      <td>21</td>\n",
       "      <td>상</td>\n",
       "    </tr>\n",
       "    <tr>\n",
       "      <th>1</th>\n",
       "      <td>41</td>\n",
       "      <td>87</td>\n",
       "      <td>54</td>\n",
       "      <td>중</td>\n",
       "    </tr>\n",
       "    <tr>\n",
       "      <th>2</th>\n",
       "      <td>85</td>\n",
       "      <td>65</td>\n",
       "      <td>84</td>\n",
       "      <td>하</td>\n",
       "    </tr>\n",
       "    <tr>\n",
       "      <th>3</th>\n",
       "      <td>61</td>\n",
       "      <td>85</td>\n",
       "      <td>13</td>\n",
       "      <td>상</td>\n",
       "    </tr>\n",
       "    <tr>\n",
       "      <th>4</th>\n",
       "      <td>54</td>\n",
       "      <td>41</td>\n",
       "      <td>21</td>\n",
       "      <td>중</td>\n",
       "    </tr>\n",
       "    <tr>\n",
       "      <th>5</th>\n",
       "      <td>84</td>\n",
       "      <td>47</td>\n",
       "      <td>87</td>\n",
       "      <td>하</td>\n",
       "    </tr>\n",
       "    <tr>\n",
       "      <th>6</th>\n",
       "      <td>77</td>\n",
       "      <td>98</td>\n",
       "      <td>65</td>\n",
       "      <td>상</td>\n",
       "    </tr>\n",
       "    <tr>\n",
       "      <th>7</th>\n",
       "      <td>87</td>\n",
       "      <td>58</td>\n",
       "      <td>54</td>\n",
       "      <td>중</td>\n",
       "    </tr>\n",
       "    <tr>\n",
       "      <th>8</th>\n",
       "      <td>54</td>\n",
       "      <td>22</td>\n",
       "      <td>78</td>\n",
       "      <td>하</td>\n",
       "    </tr>\n",
       "  </tbody>\n",
       "</table>\n",
       "</div>"
      ],
      "text/plain": [
       "   국어  영어  수학 체육\n",
       "0  50  88  21  상\n",
       "1  41  87  54  중\n",
       "2  85  65  84  하\n",
       "3  61  85  13  상\n",
       "4  54  41  21  중\n",
       "5  84  47  87  하\n",
       "6  77  98  65  상\n",
       "7  87  58  54  중\n",
       "8  54  22  78  하"
      ]
     },
     "execution_count": 19,
     "metadata": {},
     "output_type": "execute_result"
    }
   ],
   "source": [
    "df = df.drop(['평균'], axis = 1)\n",
    "df"
   ]
  },
  {
   "cell_type": "code",
   "execution_count": 20,
   "id": "a87ab6cc-da2a-4470-aa11-f39e23ea98d4",
   "metadata": {},
   "outputs": [],
   "source": [
    "data = {\n",
    "    'A' : [1,2,3,4],\n",
    "    'B' : [4.1, 3.5, 2.1, 5.7],\n",
    "    'c' : ['one', 'two', 'three', ' four']\n",
    "}\n",
    "\n",
    "df = pd.DataFrame(data)"
   ]
  },
  {
   "cell_type": "code",
   "execution_count": 21,
   "id": "d6f919a0-68cd-4002-93a5-25c6e44e7fbb",
   "metadata": {},
   "outputs": [
    {
     "data": {
      "text/plain": [
       "0    1\n",
       "1    2\n",
       "2    3\n",
       "3    4\n",
       "Name: A, dtype: category\n",
       "Categories (4, int64): [1, 2, 3, 4]"
      ]
     },
     "execution_count": 21,
     "metadata": {},
     "output_type": "execute_result"
    }
   ],
   "source": [
    "df['A'].astype('category')"
   ]
  },
  {
   "cell_type": "code",
   "execution_count": 22,
   "id": "b4ce56f1-fd45-4a0e-a713-7257ea1e33ed",
   "metadata": {},
   "outputs": [],
   "source": [
    "df['A']=df['A'].astype('float')"
   ]
  },
  {
   "cell_type": "code",
   "execution_count": 23,
   "id": "9b23430e-715d-4767-a750-d326596c1520",
   "metadata": {},
   "outputs": [
    {
     "data": {
      "text/plain": [
       "dtype('float64')"
      ]
     },
     "execution_count": 23,
     "metadata": {},
     "output_type": "execute_result"
    }
   ],
   "source": [
    "df['A'].dtype"
   ]
  },
  {
   "cell_type": "code",
   "execution_count": 24,
   "id": "703b4ed2-4434-4c80-8ff4-0574b591d48c",
   "metadata": {},
   "outputs": [],
   "source": [
    "df = df.rename(columns= {\n",
    "    'A' : 'float1',\n",
    "    'B' : 'float2',\n",
    "    'C' : 'category'})"
   ]
  },
  {
   "cell_type": "code",
   "execution_count": 25,
   "id": "70daa541-cbd7-4c6e-9445-4681b8e0a819",
   "metadata": {},
   "outputs": [
    {
     "data": {
      "text/html": [
       "<div>\n",
       "<style scoped>\n",
       "    .dataframe tbody tr th:only-of-type {\n",
       "        vertical-align: middle;\n",
       "    }\n",
       "\n",
       "    .dataframe tbody tr th {\n",
       "        vertical-align: top;\n",
       "    }\n",
       "\n",
       "    .dataframe thead th {\n",
       "        text-align: right;\n",
       "    }\n",
       "</style>\n",
       "<table border=\"1\" class=\"dataframe\">\n",
       "  <thead>\n",
       "    <tr style=\"text-align: right;\">\n",
       "      <th></th>\n",
       "      <th>float1</th>\n",
       "      <th>float2</th>\n",
       "      <th>c</th>\n",
       "    </tr>\n",
       "  </thead>\n",
       "  <tbody>\n",
       "    <tr>\n",
       "      <th>0</th>\n",
       "      <td>1.0</td>\n",
       "      <td>4.1</td>\n",
       "      <td>one</td>\n",
       "    </tr>\n",
       "    <tr>\n",
       "      <th>1</th>\n",
       "      <td>2.0</td>\n",
       "      <td>3.5</td>\n",
       "      <td>two</td>\n",
       "    </tr>\n",
       "    <tr>\n",
       "      <th>2</th>\n",
       "      <td>3.0</td>\n",
       "      <td>2.1</td>\n",
       "      <td>three</td>\n",
       "    </tr>\n",
       "    <tr>\n",
       "      <th>3</th>\n",
       "      <td>4.0</td>\n",
       "      <td>5.7</td>\n",
       "      <td>four</td>\n",
       "    </tr>\n",
       "  </tbody>\n",
       "</table>\n",
       "</div>"
      ],
      "text/plain": [
       "   float1  float2      c\n",
       "0     1.0     4.1    one\n",
       "1     2.0     3.5    two\n",
       "2     3.0     2.1  three\n",
       "3     4.0     5.7   four"
      ]
     },
     "execution_count": 25,
     "metadata": {},
     "output_type": "execute_result"
    }
   ],
   "source": [
    "df"
   ]
  },
  {
   "cell_type": "code",
   "execution_count": 26,
   "id": "05ef32c1-304a-48ad-bb08-ab523e1416b7",
   "metadata": {},
   "outputs": [],
   "source": [
    "import numpy as np\n",
    "data = {\n",
    "    'Numeric1':[1, np.nan,3, 4],\n",
    "    'Numeric2':[5,6,np.nan,8.2],\n",
    "    'Category':['dog',np.nan,'cat','dog'] }"
   ]
  },
  {
   "cell_type": "code",
   "execution_count": 27,
   "id": "1953981e-b7be-496e-a4c2-d69dc155c3b6",
   "metadata": {},
   "outputs": [],
   "source": [
    "df = pd.DataFrame(data)"
   ]
  },
  {
   "cell_type": "code",
   "execution_count": 28,
   "id": "75bf2375-9c96-4a42-9b13-34ec0ae614d5",
   "metadata": {},
   "outputs": [],
   "source": [
    "A=df.select_dtypes(include=['number']).columns\n",
    "B=df.select_dtypes(include=['object', 'category']).columns"
   ]
  },
  {
   "cell_type": "code",
   "execution_count": 29,
   "id": "f481a164-2b6e-4c4c-8087-52cf17d582a8",
   "metadata": {},
   "outputs": [
    {
     "data": {
      "text/html": [
       "<div>\n",
       "<style scoped>\n",
       "    .dataframe tbody tr th:only-of-type {\n",
       "        vertical-align: middle;\n",
       "    }\n",
       "\n",
       "    .dataframe tbody tr th {\n",
       "        vertical-align: top;\n",
       "    }\n",
       "\n",
       "    .dataframe thead th {\n",
       "        text-align: right;\n",
       "    }\n",
       "</style>\n",
       "<table border=\"1\" class=\"dataframe\">\n",
       "  <thead>\n",
       "    <tr style=\"text-align: right;\">\n",
       "      <th></th>\n",
       "      <th>Numeric1</th>\n",
       "      <th>Numeric2</th>\n",
       "    </tr>\n",
       "  </thead>\n",
       "  <tbody>\n",
       "    <tr>\n",
       "      <th>0</th>\n",
       "      <td>1.0</td>\n",
       "      <td>5.0</td>\n",
       "    </tr>\n",
       "    <tr>\n",
       "      <th>1</th>\n",
       "      <td>NaN</td>\n",
       "      <td>6.0</td>\n",
       "    </tr>\n",
       "    <tr>\n",
       "      <th>2</th>\n",
       "      <td>3.0</td>\n",
       "      <td>NaN</td>\n",
       "    </tr>\n",
       "    <tr>\n",
       "      <th>3</th>\n",
       "      <td>4.0</td>\n",
       "      <td>8.2</td>\n",
       "    </tr>\n",
       "  </tbody>\n",
       "</table>\n",
       "</div>"
      ],
      "text/plain": [
       "   Numeric1  Numeric2\n",
       "0       1.0       5.0\n",
       "1       NaN       6.0\n",
       "2       3.0       NaN\n",
       "3       4.0       8.2"
      ]
     },
     "execution_count": 29,
     "metadata": {},
     "output_type": "execute_result"
    }
   ],
   "source": [
    "df[A]"
   ]
  },
  {
   "cell_type": "code",
   "execution_count": 30,
   "id": "c913c52d-71bf-4042-a5f5-1528c7b3508b",
   "metadata": {},
   "outputs": [
    {
     "data": {
      "text/html": [
       "<div>\n",
       "<style scoped>\n",
       "    .dataframe tbody tr th:only-of-type {\n",
       "        vertical-align: middle;\n",
       "    }\n",
       "\n",
       "    .dataframe tbody tr th {\n",
       "        vertical-align: top;\n",
       "    }\n",
       "\n",
       "    .dataframe thead th {\n",
       "        text-align: right;\n",
       "    }\n",
       "</style>\n",
       "<table border=\"1\" class=\"dataframe\">\n",
       "  <thead>\n",
       "    <tr style=\"text-align: right;\">\n",
       "      <th></th>\n",
       "      <th>Category</th>\n",
       "    </tr>\n",
       "  </thead>\n",
       "  <tbody>\n",
       "    <tr>\n",
       "      <th>0</th>\n",
       "      <td>dog</td>\n",
       "    </tr>\n",
       "    <tr>\n",
       "      <th>1</th>\n",
       "      <td>NaN</td>\n",
       "    </tr>\n",
       "    <tr>\n",
       "      <th>2</th>\n",
       "      <td>cat</td>\n",
       "    </tr>\n",
       "    <tr>\n",
       "      <th>3</th>\n",
       "      <td>dog</td>\n",
       "    </tr>\n",
       "  </tbody>\n",
       "</table>\n",
       "</div>"
      ],
      "text/plain": [
       "  Category\n",
       "0      dog\n",
       "1      NaN\n",
       "2      cat\n",
       "3      dog"
      ]
     },
     "execution_count": 30,
     "metadata": {},
     "output_type": "execute_result"
    }
   ],
   "source": [
    "df[B]"
   ]
  },
  {
   "cell_type": "code",
   "execution_count": 31,
   "id": "d962c8a3-a82f-426c-b00c-6b23152cbbf5",
   "metadata": {},
   "outputs": [
    {
     "data": {
      "text/html": [
       "<div>\n",
       "<style scoped>\n",
       "    .dataframe tbody tr th:only-of-type {\n",
       "        vertical-align: middle;\n",
       "    }\n",
       "\n",
       "    .dataframe tbody tr th {\n",
       "        vertical-align: top;\n",
       "    }\n",
       "\n",
       "    .dataframe thead th {\n",
       "        text-align: right;\n",
       "    }\n",
       "</style>\n",
       "<table border=\"1\" class=\"dataframe\">\n",
       "  <thead>\n",
       "    <tr style=\"text-align: right;\">\n",
       "      <th></th>\n",
       "      <th>Numeric1</th>\n",
       "      <th>Numeric2</th>\n",
       "      <th>Category</th>\n",
       "    </tr>\n",
       "  </thead>\n",
       "  <tbody>\n",
       "    <tr>\n",
       "      <th>0</th>\n",
       "      <td>1.000000</td>\n",
       "      <td>5.0</td>\n",
       "      <td>dog</td>\n",
       "    </tr>\n",
       "    <tr>\n",
       "      <th>1</th>\n",
       "      <td>2.666667</td>\n",
       "      <td>6.0</td>\n",
       "      <td>NaN</td>\n",
       "    </tr>\n",
       "    <tr>\n",
       "      <th>2</th>\n",
       "      <td>3.000000</td>\n",
       "      <td>6.4</td>\n",
       "      <td>cat</td>\n",
       "    </tr>\n",
       "    <tr>\n",
       "      <th>3</th>\n",
       "      <td>4.000000</td>\n",
       "      <td>8.2</td>\n",
       "      <td>dog</td>\n",
       "    </tr>\n",
       "  </tbody>\n",
       "</table>\n",
       "</div>"
      ],
      "text/plain": [
       "   Numeric1  Numeric2 Category\n",
       "0  1.000000       5.0      dog\n",
       "1  2.666667       6.0      NaN\n",
       "2  3.000000       6.4      cat\n",
       "3  4.000000       8.2      dog"
      ]
     },
     "execution_count": 31,
     "metadata": {},
     "output_type": "execute_result"
    }
   ],
   "source": [
    "df.fillna(df[A].mean())"
   ]
  },
  {
   "cell_type": "code",
   "execution_count": 32,
   "id": "d55939b7-b1e5-47ee-97d1-ea94b8bb3c37",
   "metadata": {},
   "outputs": [],
   "source": [
    "df1 = pd.DataFrame({\n",
    "'a':['a0','a1','a2','a3'],\n",
    "'b':['b0','b1','b2','b3'],\n",
    "'c':['c0','c1','c2','c3']})\n",
    "\n",
    "df2 = pd.DataFrame({\n",
    "'a':['a2','a3','a4','a5'],\n",
    "'b':['b2','b3','b4','b5'],\n",
    "'c':['c2','c3','c4','c5'],\n",
    "'d':['d2','d3','d4','d5']})"
   ]
  },
  {
   "cell_type": "code",
   "execution_count": 33,
   "id": "a2632d3f-1b80-47b7-b6f6-8f936b7414be",
   "metadata": {},
   "outputs": [
    {
     "data": {
      "text/html": [
       "<div>\n",
       "<style scoped>\n",
       "    .dataframe tbody tr th:only-of-type {\n",
       "        vertical-align: middle;\n",
       "    }\n",
       "\n",
       "    .dataframe tbody tr th {\n",
       "        vertical-align: top;\n",
       "    }\n",
       "\n",
       "    .dataframe thead th {\n",
       "        text-align: right;\n",
       "    }\n",
       "</style>\n",
       "<table border=\"1\" class=\"dataframe\">\n",
       "  <thead>\n",
       "    <tr style=\"text-align: right;\">\n",
       "      <th></th>\n",
       "      <th>a</th>\n",
       "      <th>b</th>\n",
       "      <th>c</th>\n",
       "      <th>d</th>\n",
       "    </tr>\n",
       "  </thead>\n",
       "  <tbody>\n",
       "    <tr>\n",
       "      <th>0</th>\n",
       "      <td>a0</td>\n",
       "      <td>b0</td>\n",
       "      <td>c0</td>\n",
       "      <td>NaN</td>\n",
       "    </tr>\n",
       "    <tr>\n",
       "      <th>1</th>\n",
       "      <td>a1</td>\n",
       "      <td>b1</td>\n",
       "      <td>c1</td>\n",
       "      <td>NaN</td>\n",
       "    </tr>\n",
       "    <tr>\n",
       "      <th>2</th>\n",
       "      <td>a2</td>\n",
       "      <td>b2</td>\n",
       "      <td>c2</td>\n",
       "      <td>NaN</td>\n",
       "    </tr>\n",
       "    <tr>\n",
       "      <th>3</th>\n",
       "      <td>a3</td>\n",
       "      <td>b3</td>\n",
       "      <td>c3</td>\n",
       "      <td>NaN</td>\n",
       "    </tr>\n",
       "    <tr>\n",
       "      <th>0</th>\n",
       "      <td>a2</td>\n",
       "      <td>b2</td>\n",
       "      <td>c2</td>\n",
       "      <td>d2</td>\n",
       "    </tr>\n",
       "    <tr>\n",
       "      <th>1</th>\n",
       "      <td>a3</td>\n",
       "      <td>b3</td>\n",
       "      <td>c3</td>\n",
       "      <td>d3</td>\n",
       "    </tr>\n",
       "    <tr>\n",
       "      <th>2</th>\n",
       "      <td>a4</td>\n",
       "      <td>b4</td>\n",
       "      <td>c4</td>\n",
       "      <td>d4</td>\n",
       "    </tr>\n",
       "    <tr>\n",
       "      <th>3</th>\n",
       "      <td>a5</td>\n",
       "      <td>b5</td>\n",
       "      <td>c5</td>\n",
       "      <td>d5</td>\n",
       "    </tr>\n",
       "  </tbody>\n",
       "</table>\n",
       "</div>"
      ],
      "text/plain": [
       "    a   b   c    d\n",
       "0  a0  b0  c0  NaN\n",
       "1  a1  b1  c1  NaN\n",
       "2  a2  b2  c2  NaN\n",
       "3  a3  b3  c3  NaN\n",
       "0  a2  b2  c2   d2\n",
       "1  a3  b3  c3   d3\n",
       "2  a4  b4  c4   d4\n",
       "3  a5  b5  c5   d5"
      ]
     },
     "execution_count": 33,
     "metadata": {},
     "output_type": "execute_result"
    }
   ],
   "source": [
    "pd.concat([df1, df2], axis=0)"
   ]
  },
  {
   "cell_type": "code",
   "execution_count": 34,
   "id": "fa9612f2-d3be-4201-8099-2655dd015768",
   "metadata": {},
   "outputs": [
    {
     "data": {
      "text/html": [
       "<div>\n",
       "<style scoped>\n",
       "    .dataframe tbody tr th:only-of-type {\n",
       "        vertical-align: middle;\n",
       "    }\n",
       "\n",
       "    .dataframe tbody tr th {\n",
       "        vertical-align: top;\n",
       "    }\n",
       "\n",
       "    .dataframe thead th {\n",
       "        text-align: right;\n",
       "    }\n",
       "</style>\n",
       "<table border=\"1\" class=\"dataframe\">\n",
       "  <thead>\n",
       "    <tr style=\"text-align: right;\">\n",
       "      <th></th>\n",
       "      <th>a</th>\n",
       "      <th>b</th>\n",
       "      <th>c</th>\n",
       "      <th>a</th>\n",
       "      <th>b</th>\n",
       "      <th>c</th>\n",
       "      <th>d</th>\n",
       "    </tr>\n",
       "  </thead>\n",
       "  <tbody>\n",
       "    <tr>\n",
       "      <th>0</th>\n",
       "      <td>a0</td>\n",
       "      <td>b0</td>\n",
       "      <td>c0</td>\n",
       "      <td>a2</td>\n",
       "      <td>b2</td>\n",
       "      <td>c2</td>\n",
       "      <td>d2</td>\n",
       "    </tr>\n",
       "    <tr>\n",
       "      <th>1</th>\n",
       "      <td>a1</td>\n",
       "      <td>b1</td>\n",
       "      <td>c1</td>\n",
       "      <td>a3</td>\n",
       "      <td>b3</td>\n",
       "      <td>c3</td>\n",
       "      <td>d3</td>\n",
       "    </tr>\n",
       "    <tr>\n",
       "      <th>2</th>\n",
       "      <td>a2</td>\n",
       "      <td>b2</td>\n",
       "      <td>c2</td>\n",
       "      <td>a4</td>\n",
       "      <td>b4</td>\n",
       "      <td>c4</td>\n",
       "      <td>d4</td>\n",
       "    </tr>\n",
       "    <tr>\n",
       "      <th>3</th>\n",
       "      <td>a3</td>\n",
       "      <td>b3</td>\n",
       "      <td>c3</td>\n",
       "      <td>a5</td>\n",
       "      <td>b5</td>\n",
       "      <td>c5</td>\n",
       "      <td>d5</td>\n",
       "    </tr>\n",
       "  </tbody>\n",
       "</table>\n",
       "</div>"
      ],
      "text/plain": [
       "    a   b   c   a   b   c   d\n",
       "0  a0  b0  c0  a2  b2  c2  d2\n",
       "1  a1  b1  c1  a3  b3  c3  d3\n",
       "2  a2  b2  c2  a4  b4  c4  d4\n",
       "3  a3  b3  c3  a5  b5  c5  d5"
      ]
     },
     "execution_count": 34,
     "metadata": {},
     "output_type": "execute_result"
    }
   ],
   "source": [
    "pd.concat([df1, df2], axis=1)"
   ]
  },
  {
   "cell_type": "code",
   "execution_count": 35,
   "id": "d4d5e269-c9cb-427e-9437-9ab543db34eb",
   "metadata": {},
   "outputs": [
    {
     "data": {
      "text/html": [
       "<div>\n",
       "<style scoped>\n",
       "    .dataframe tbody tr th:only-of-type {\n",
       "        vertical-align: middle;\n",
       "    }\n",
       "\n",
       "    .dataframe tbody tr th {\n",
       "        vertical-align: top;\n",
       "    }\n",
       "\n",
       "    .dataframe thead th {\n",
       "        text-align: right;\n",
       "    }\n",
       "</style>\n",
       "<table border=\"1\" class=\"dataframe\">\n",
       "  <thead>\n",
       "    <tr style=\"text-align: right;\">\n",
       "      <th></th>\n",
       "      <th>Numeric1</th>\n",
       "      <th>Numeric2</th>\n",
       "      <th>Category</th>\n",
       "    </tr>\n",
       "  </thead>\n",
       "  <tbody>\n",
       "    <tr>\n",
       "      <th>0</th>\n",
       "      <td>1.0</td>\n",
       "      <td>5.0</td>\n",
       "      <td>dog</td>\n",
       "    </tr>\n",
       "    <tr>\n",
       "      <th>1</th>\n",
       "      <td>NaN</td>\n",
       "      <td>6.0</td>\n",
       "      <td>NaN</td>\n",
       "    </tr>\n",
       "    <tr>\n",
       "      <th>3</th>\n",
       "      <td>4.0</td>\n",
       "      <td>8.2</td>\n",
       "      <td>dog</td>\n",
       "    </tr>\n",
       "  </tbody>\n",
       "</table>\n",
       "</div>"
      ],
      "text/plain": [
       "   Numeric1  Numeric2 Category\n",
       "0       1.0       5.0      dog\n",
       "1       NaN       6.0      NaN\n",
       "3       4.0       8.2      dog"
      ]
     },
     "execution_count": 35,
     "metadata": {},
     "output_type": "execute_result"
    }
   ],
   "source": [
    "df[df['Numeric2']>=5]"
   ]
  },
  {
   "cell_type": "code",
   "execution_count": 36,
   "id": "d0a08c01-921c-41a6-b21f-4fc9c2dd5d01",
   "metadata": {},
   "outputs": [
    {
     "data": {
      "text/plain": [
       "0    5.0\n",
       "1    6.0\n",
       "3    8.2\n",
       "Name: Numeric2, dtype: float64"
      ]
     },
     "execution_count": 36,
     "metadata": {},
     "output_type": "execute_result"
    }
   ],
   "source": [
    "df['Numeric2'][df['Numeric2']>=5]"
   ]
  },
  {
   "cell_type": "code",
   "execution_count": 37,
   "id": "104413b3-4e70-4d07-8300-3c6396821bed",
   "metadata": {},
   "outputs": [
    {
     "data": {
      "text/plain": [
       "0    5.0\n",
       "1    6.0\n",
       "3    8.2\n",
       "Name: Numeric2, dtype: float64"
      ]
     },
     "execution_count": 37,
     "metadata": {},
     "output_type": "execute_result"
    }
   ],
   "source": [
    "df[df['Numeric2']>=5]['Numeric2']"
   ]
  },
  {
   "cell_type": "code",
   "execution_count": 38,
   "id": "8a68d534-2bfb-400d-a83d-246c030e0945",
   "metadata": {},
   "outputs": [],
   "source": [
    "data = { \n",
    "'Numeric1': [1, np.nan, 3, 4], \n",
    "'Numeric2': [5, 6, np.nan, 8.2], \n",
    "'Category': ['dog', np.nan, 'cat', 'dgo'] \n",
    "} \n",
    "df = pd.DataFrame(data)\n",
    "filter_df = df[df['Category'] == 'dog']\n",
    "filter_df_contains = df[df['Category'].str.contains('d', na=False) & df['Category'].str.contains('o', na=False)]"
   ]
  },
  {
   "cell_type": "code",
   "execution_count": 39,
   "id": "58785bf4-c4c7-466a-aba5-ae38e7601cf5",
   "metadata": {},
   "outputs": [
    {
     "data": {
      "text/html": [
       "<div>\n",
       "<style scoped>\n",
       "    .dataframe tbody tr th:only-of-type {\n",
       "        vertical-align: middle;\n",
       "    }\n",
       "\n",
       "    .dataframe tbody tr th {\n",
       "        vertical-align: top;\n",
       "    }\n",
       "\n",
       "    .dataframe thead th {\n",
       "        text-align: right;\n",
       "    }\n",
       "</style>\n",
       "<table border=\"1\" class=\"dataframe\">\n",
       "  <thead>\n",
       "    <tr style=\"text-align: right;\">\n",
       "      <th></th>\n",
       "      <th>Numeric1</th>\n",
       "      <th>Numeric2</th>\n",
       "      <th>Category</th>\n",
       "    </tr>\n",
       "  </thead>\n",
       "  <tbody>\n",
       "    <tr>\n",
       "      <th>0</th>\n",
       "      <td>1.0</td>\n",
       "      <td>5.0</td>\n",
       "      <td>dog</td>\n",
       "    </tr>\n",
       "  </tbody>\n",
       "</table>\n",
       "</div>"
      ],
      "text/plain": [
       "   Numeric1  Numeric2 Category\n",
       "0       1.0       5.0      dog"
      ]
     },
     "execution_count": 39,
     "metadata": {},
     "output_type": "execute_result"
    }
   ],
   "source": [
    "filter_df"
   ]
  },
  {
   "cell_type": "code",
   "execution_count": 40,
   "id": "1916a792-e3dc-4453-876b-9ad435805bd0",
   "metadata": {},
   "outputs": [
    {
     "data": {
      "text/html": [
       "<div>\n",
       "<style scoped>\n",
       "    .dataframe tbody tr th:only-of-type {\n",
       "        vertical-align: middle;\n",
       "    }\n",
       "\n",
       "    .dataframe tbody tr th {\n",
       "        vertical-align: top;\n",
       "    }\n",
       "\n",
       "    .dataframe thead th {\n",
       "        text-align: right;\n",
       "    }\n",
       "</style>\n",
       "<table border=\"1\" class=\"dataframe\">\n",
       "  <thead>\n",
       "    <tr style=\"text-align: right;\">\n",
       "      <th></th>\n",
       "      <th>Numeric1</th>\n",
       "      <th>Numeric2</th>\n",
       "      <th>Category</th>\n",
       "    </tr>\n",
       "  </thead>\n",
       "  <tbody>\n",
       "    <tr>\n",
       "      <th>0</th>\n",
       "      <td>1.0</td>\n",
       "      <td>5.0</td>\n",
       "      <td>dog</td>\n",
       "    </tr>\n",
       "    <tr>\n",
       "      <th>3</th>\n",
       "      <td>4.0</td>\n",
       "      <td>8.2</td>\n",
       "      <td>dgo</td>\n",
       "    </tr>\n",
       "  </tbody>\n",
       "</table>\n",
       "</div>"
      ],
      "text/plain": [
       "   Numeric1  Numeric2 Category\n",
       "0       1.0       5.0      dog\n",
       "3       4.0       8.2      dgo"
      ]
     },
     "execution_count": 40,
     "metadata": {},
     "output_type": "execute_result"
    }
   ],
   "source": [
    "filter_df_contains"
   ]
  },
  {
   "cell_type": "code",
   "execution_count": 75,
   "id": "899a9f54-c628-4102-ae2a-3ec484a61ccc",
   "metadata": {},
   "outputs": [],
   "source": [
    "# 여기부터 중간 이후\n",
    "\n",
    "\n",
    "\n",
    "df = pd.DataFrame({'variable': ['value1-value2-value3', 'value4-value5', 'value6']})"
   ]
  },
  {
   "cell_type": "code",
   "execution_count": 70,
   "id": "69775c30-e9bd-4e9c-bf5b-73cb0a965ec5",
   "metadata": {},
   "outputs": [],
   "source": [
    "split_df = df['variable'].str.split('-', expand=True)"
   ]
  },
  {
   "cell_type": "code",
   "execution_count": 71,
   "id": "df02060c-9029-48aa-8c9e-0f723033f52c",
   "metadata": {},
   "outputs": [],
   "source": [
    "split_df.columns = ['var1', 'var2', 'var3']"
   ]
  },
  {
   "cell_type": "code",
   "execution_count": 72,
   "id": "59ab4d27-c812-4349-87f2-f20417e7d1b1",
   "metadata": {},
   "outputs": [
    {
     "data": {
      "text/html": [
       "<div>\n",
       "<style scoped>\n",
       "    .dataframe tbody tr th:only-of-type {\n",
       "        vertical-align: middle;\n",
       "    }\n",
       "\n",
       "    .dataframe tbody tr th {\n",
       "        vertical-align: top;\n",
       "    }\n",
       "\n",
       "    .dataframe thead th {\n",
       "        text-align: right;\n",
       "    }\n",
       "</style>\n",
       "<table border=\"1\" class=\"dataframe\">\n",
       "  <thead>\n",
       "    <tr style=\"text-align: right;\">\n",
       "      <th></th>\n",
       "      <th>var1</th>\n",
       "      <th>var2</th>\n",
       "      <th>var3</th>\n",
       "    </tr>\n",
       "  </thead>\n",
       "  <tbody>\n",
       "    <tr>\n",
       "      <th>0</th>\n",
       "      <td>value1</td>\n",
       "      <td>value2</td>\n",
       "      <td>value3</td>\n",
       "    </tr>\n",
       "    <tr>\n",
       "      <th>1</th>\n",
       "      <td>value4</td>\n",
       "      <td>value5</td>\n",
       "      <td>None</td>\n",
       "    </tr>\n",
       "    <tr>\n",
       "      <th>2</th>\n",
       "      <td>value6</td>\n",
       "      <td>None</td>\n",
       "      <td>None</td>\n",
       "    </tr>\n",
       "  </tbody>\n",
       "</table>\n",
       "</div>"
      ],
      "text/plain": [
       "     var1    var2    var3\n",
       "0  value1  value2  value3\n",
       "1  value4  value5    None\n",
       "2  value6    None    None"
      ]
     },
     "execution_count": 72,
     "metadata": {},
     "output_type": "execute_result"
    }
   ],
   "source": [
    "split_df"
   ]
  },
  {
   "cell_type": "code",
   "execution_count": 73,
   "id": "ab5a6378-ad44-4d17-a0aa-249be84425c3",
   "metadata": {},
   "outputs": [],
   "source": [
    "df['variable'] = df['variable'].str[0:5]"
   ]
  },
  {
   "cell_type": "code",
   "execution_count": 74,
   "id": "2596ca36-fcb3-4141-96a2-7d1d7781045a",
   "metadata": {},
   "outputs": [
    {
     "data": {
      "text/html": [
       "<div>\n",
       "<style scoped>\n",
       "    .dataframe tbody tr th:only-of-type {\n",
       "        vertical-align: middle;\n",
       "    }\n",
       "\n",
       "    .dataframe tbody tr th {\n",
       "        vertical-align: top;\n",
       "    }\n",
       "\n",
       "    .dataframe thead th {\n",
       "        text-align: right;\n",
       "    }\n",
       "</style>\n",
       "<table border=\"1\" class=\"dataframe\">\n",
       "  <thead>\n",
       "    <tr style=\"text-align: right;\">\n",
       "      <th></th>\n",
       "      <th>variable</th>\n",
       "    </tr>\n",
       "  </thead>\n",
       "  <tbody>\n",
       "    <tr>\n",
       "      <th>0</th>\n",
       "      <td>value</td>\n",
       "    </tr>\n",
       "    <tr>\n",
       "      <th>1</th>\n",
       "      <td>value</td>\n",
       "    </tr>\n",
       "    <tr>\n",
       "      <th>2</th>\n",
       "      <td>value</td>\n",
       "    </tr>\n",
       "  </tbody>\n",
       "</table>\n",
       "</div>"
      ],
      "text/plain": [
       "  variable\n",
       "0    value\n",
       "1    value\n",
       "2    value"
      ]
     },
     "execution_count": 74,
     "metadata": {},
     "output_type": "execute_result"
    }
   ],
   "source": [
    "df"
   ]
  },
  {
   "cell_type": "code",
   "execution_count": 76,
   "id": "c85d295c-fa7b-433c-a071-bdee33ae3bc7",
   "metadata": {},
   "outputs": [],
   "source": [
    "df['variable'] = df['variable'].str[0:5] + df['variable'].str[6:12]"
   ]
  },
  {
   "cell_type": "code",
   "execution_count": 77,
   "id": "29daa5c1-6bfa-40cc-93da-9e851032bc70",
   "metadata": {},
   "outputs": [
    {
     "data": {
      "text/html": [
       "<div>\n",
       "<style scoped>\n",
       "    .dataframe tbody tr th:only-of-type {\n",
       "        vertical-align: middle;\n",
       "    }\n",
       "\n",
       "    .dataframe tbody tr th {\n",
       "        vertical-align: top;\n",
       "    }\n",
       "\n",
       "    .dataframe thead th {\n",
       "        text-align: right;\n",
       "    }\n",
       "</style>\n",
       "<table border=\"1\" class=\"dataframe\">\n",
       "  <thead>\n",
       "    <tr style=\"text-align: right;\">\n",
       "      <th></th>\n",
       "      <th>variable</th>\n",
       "    </tr>\n",
       "  </thead>\n",
       "  <tbody>\n",
       "    <tr>\n",
       "      <th>0</th>\n",
       "      <td>value-value</td>\n",
       "    </tr>\n",
       "    <tr>\n",
       "      <th>1</th>\n",
       "      <td>value-value</td>\n",
       "    </tr>\n",
       "    <tr>\n",
       "      <th>2</th>\n",
       "      <td>value</td>\n",
       "    </tr>\n",
       "  </tbody>\n",
       "</table>\n",
       "</div>"
      ],
      "text/plain": [
       "      variable\n",
       "0  value-value\n",
       "1  value-value\n",
       "2        value"
      ]
     },
     "execution_count": 77,
     "metadata": {},
     "output_type": "execute_result"
    }
   ],
   "source": [
    "df"
   ]
  },
  {
   "cell_type": "code",
   "execution_count": 82,
   "id": "cc1b7fbc-9972-42d7-b838-18bcdd504b46",
   "metadata": {},
   "outputs": [],
   "source": [
    "split_df['var1'] = split_df['var1'].astype(str)\n",
    "split_df['var2'] = split_df['var2'].astype(str)\n",
    "split_df['var3'] = split_df['var3'].astype(str)\n",
    "\n",
    "split_df['combined'] = split_df['var1'] + '-' + split_df['var2'] + '-' + split_df['var3']"
   ]
  },
  {
   "cell_type": "code",
   "execution_count": 84,
   "id": "a07ab138-c491-47e3-a07f-17eb50ac40fa",
   "metadata": {},
   "outputs": [
    {
     "data": {
      "text/html": [
       "<div>\n",
       "<style scoped>\n",
       "    .dataframe tbody tr th:only-of-type {\n",
       "        vertical-align: middle;\n",
       "    }\n",
       "\n",
       "    .dataframe tbody tr th {\n",
       "        vertical-align: top;\n",
       "    }\n",
       "\n",
       "    .dataframe thead th {\n",
       "        text-align: right;\n",
       "    }\n",
       "</style>\n",
       "<table border=\"1\" class=\"dataframe\">\n",
       "  <thead>\n",
       "    <tr style=\"text-align: right;\">\n",
       "      <th></th>\n",
       "      <th>var1</th>\n",
       "      <th>var2</th>\n",
       "      <th>var3</th>\n",
       "      <th>combined</th>\n",
       "    </tr>\n",
       "  </thead>\n",
       "  <tbody>\n",
       "    <tr>\n",
       "      <th>0</th>\n",
       "      <td>value1</td>\n",
       "      <td>value2</td>\n",
       "      <td>value3</td>\n",
       "      <td>value1-value2-value3</td>\n",
       "    </tr>\n",
       "    <tr>\n",
       "      <th>1</th>\n",
       "      <td>value4</td>\n",
       "      <td>value5</td>\n",
       "      <td>None</td>\n",
       "      <td>value4-value5-None</td>\n",
       "    </tr>\n",
       "    <tr>\n",
       "      <th>2</th>\n",
       "      <td>value6</td>\n",
       "      <td>None</td>\n",
       "      <td>None</td>\n",
       "      <td>value6-None-None</td>\n",
       "    </tr>\n",
       "  </tbody>\n",
       "</table>\n",
       "</div>"
      ],
      "text/plain": [
       "     var1    var2    var3              combined\n",
       "0  value1  value2  value3  value1-value2-value3\n",
       "1  value4  value5    None    value4-value5-None\n",
       "2  value6    None    None      value6-None-None"
      ]
     },
     "execution_count": 84,
     "metadata": {},
     "output_type": "execute_result"
    }
   ],
   "source": [
    "split_df"
   ]
  },
  {
   "cell_type": "code",
   "execution_count": 2,
   "id": "fc6a561a-eed0-40a0-afed-807b4c16f694",
   "metadata": {},
   "outputs": [],
   "source": [
    "# 중요\n",
    "df = pd.DataFrame({'variable': ['value1-value2-value3', 'value3-value1-value5', 'vvdfvalue1656']})\n",
    "\n",
    "df['new_variable'] = df['variable'].str.replace(r'value1.*', 'value1', regex=True)\n",
    "# 특정문자가 포함되어있으면 그 부분부터 끝까지를 해당 문자로 변경한다."
   ]
  },
  {
   "cell_type": "code",
   "execution_count": 3,
   "id": "116a9afe-9ed6-404e-a20a-169427205d2c",
   "metadata": {},
   "outputs": [
    {
     "data": {
      "text/html": [
       "<div>\n",
       "<style scoped>\n",
       "    .dataframe tbody tr th:only-of-type {\n",
       "        vertical-align: middle;\n",
       "    }\n",
       "\n",
       "    .dataframe tbody tr th {\n",
       "        vertical-align: top;\n",
       "    }\n",
       "\n",
       "    .dataframe thead th {\n",
       "        text-align: right;\n",
       "    }\n",
       "</style>\n",
       "<table border=\"1\" class=\"dataframe\">\n",
       "  <thead>\n",
       "    <tr style=\"text-align: right;\">\n",
       "      <th></th>\n",
       "      <th>variable</th>\n",
       "      <th>new_variable</th>\n",
       "    </tr>\n",
       "  </thead>\n",
       "  <tbody>\n",
       "    <tr>\n",
       "      <th>0</th>\n",
       "      <td>value1-value2-value3</td>\n",
       "      <td>value1</td>\n",
       "    </tr>\n",
       "    <tr>\n",
       "      <th>1</th>\n",
       "      <td>value3-value1-value5</td>\n",
       "      <td>value3-value1</td>\n",
       "    </tr>\n",
       "    <tr>\n",
       "      <th>2</th>\n",
       "      <td>vvdfvalue1656</td>\n",
       "      <td>vvdfvalue1</td>\n",
       "    </tr>\n",
       "  </tbody>\n",
       "</table>\n",
       "</div>"
      ],
      "text/plain": [
       "               variable   new_variable\n",
       "0  value1-value2-value3         value1\n",
       "1  value3-value1-value5  value3-value1\n",
       "2         vvdfvalue1656     vvdfvalue1"
      ]
     },
     "execution_count": 3,
     "metadata": {},
     "output_type": "execute_result"
    }
   ],
   "source": [
    "df"
   ]
  },
  {
   "cell_type": "code",
   "execution_count": 4,
   "id": "b769eb4c-89d2-4c0f-a474-2e9a12bc918a",
   "metadata": {},
   "outputs": [],
   "source": [
    "df['new_variable1'] = df['variable'].str.extract(r'(value1)')\n",
    "# 특정 문자가 포함되어있으면 전체를 해당 문자로 변경한다."
   ]
  },
  {
   "cell_type": "code",
   "execution_count": 5,
   "id": "33632262-71c5-48c3-8c6d-3aa71738f837",
   "metadata": {},
   "outputs": [
    {
     "data": {
      "text/html": [
       "<div>\n",
       "<style scoped>\n",
       "    .dataframe tbody tr th:only-of-type {\n",
       "        vertical-align: middle;\n",
       "    }\n",
       "\n",
       "    .dataframe tbody tr th {\n",
       "        vertical-align: top;\n",
       "    }\n",
       "\n",
       "    .dataframe thead th {\n",
       "        text-align: right;\n",
       "    }\n",
       "</style>\n",
       "<table border=\"1\" class=\"dataframe\">\n",
       "  <thead>\n",
       "    <tr style=\"text-align: right;\">\n",
       "      <th></th>\n",
       "      <th>variable</th>\n",
       "      <th>new_variable</th>\n",
       "      <th>new_variable1</th>\n",
       "    </tr>\n",
       "  </thead>\n",
       "  <tbody>\n",
       "    <tr>\n",
       "      <th>0</th>\n",
       "      <td>value1-value2-value3</td>\n",
       "      <td>value1</td>\n",
       "      <td>value1</td>\n",
       "    </tr>\n",
       "    <tr>\n",
       "      <th>1</th>\n",
       "      <td>value3-value1-value5</td>\n",
       "      <td>value3-value1</td>\n",
       "      <td>value1</td>\n",
       "    </tr>\n",
       "    <tr>\n",
       "      <th>2</th>\n",
       "      <td>vvdfvalue1656</td>\n",
       "      <td>vvdfvalue1</td>\n",
       "      <td>value1</td>\n",
       "    </tr>\n",
       "  </tbody>\n",
       "</table>\n",
       "</div>"
      ],
      "text/plain": [
       "               variable   new_variable new_variable1\n",
       "0  value1-value2-value3         value1        value1\n",
       "1  value3-value1-value5  value3-value1        value1\n",
       "2         vvdfvalue1656     vvdfvalue1        value1"
      ]
     },
     "execution_count": 5,
     "metadata": {},
     "output_type": "execute_result"
    }
   ],
   "source": [
    "df"
   ]
  },
  {
   "cell_type": "code",
   "execution_count": 7,
   "id": "1dfb68e3-2072-4999-b1cf-29a13d1ba648",
   "metadata": {},
   "outputs": [
    {
     "data": {
      "text/html": [
       "<div>\n",
       "<style scoped>\n",
       "    .dataframe tbody tr th:only-of-type {\n",
       "        vertical-align: middle;\n",
       "    }\n",
       "\n",
       "    .dataframe tbody tr th {\n",
       "        vertical-align: top;\n",
       "    }\n",
       "\n",
       "    .dataframe thead th {\n",
       "        text-align: right;\n",
       "    }\n",
       "</style>\n",
       "<table border=\"1\" class=\"dataframe\">\n",
       "  <thead>\n",
       "    <tr style=\"text-align: right;\">\n",
       "      <th></th>\n",
       "      <th>0</th>\n",
       "    </tr>\n",
       "  </thead>\n",
       "  <tbody>\n",
       "    <tr>\n",
       "      <th>0</th>\n",
       "      <td>value2</td>\n",
       "    </tr>\n",
       "  </tbody>\n",
       "</table>\n",
       "</div>"
      ],
      "text/plain": [
       "        0\n",
       "0  value2"
      ]
     },
     "execution_count": 7,
     "metadata": {},
     "output_type": "execute_result"
    }
   ],
   "source": [
    "conti = df[df['variable'].str.contains('value2', na=False)]\n",
    "\n",
    "conti['variable'].str.extract(r'(value2)')"
   ]
  },
  {
   "cell_type": "code",
   "execution_count": 107,
   "id": "fd5a73be-4ab8-432f-8401-c9ab16f58860",
   "metadata": {},
   "outputs": [
    {
     "data": {
      "text/html": [
       "<div>\n",
       "<style scoped>\n",
       "    .dataframe tbody tr th:only-of-type {\n",
       "        vertical-align: middle;\n",
       "    }\n",
       "\n",
       "    .dataframe tbody tr th {\n",
       "        vertical-align: top;\n",
       "    }\n",
       "\n",
       "    .dataframe thead th {\n",
       "        text-align: right;\n",
       "    }\n",
       "</style>\n",
       "<table border=\"1\" class=\"dataframe\">\n",
       "  <thead>\n",
       "    <tr style=\"text-align: right;\">\n",
       "      <th></th>\n",
       "      <th>variable</th>\n",
       "      <th>new_variable</th>\n",
       "      <th>new_variable1</th>\n",
       "    </tr>\n",
       "  </thead>\n",
       "  <tbody>\n",
       "    <tr>\n",
       "      <th>0</th>\n",
       "      <td>value1-value2-value3</td>\n",
       "      <td>value1</td>\n",
       "      <td>value1</td>\n",
       "    </tr>\n",
       "    <tr>\n",
       "      <th>1</th>\n",
       "      <td>value3-value1-value5</td>\n",
       "      <td>value3-value1</td>\n",
       "      <td>value1</td>\n",
       "    </tr>\n",
       "    <tr>\n",
       "      <th>2</th>\n",
       "      <td>vvdfvalue1656</td>\n",
       "      <td>vvdfvalue1</td>\n",
       "      <td>value1</td>\n",
       "    </tr>\n",
       "  </tbody>\n",
       "</table>\n",
       "</div>"
      ],
      "text/plain": [
       "               variable   new_variable new_variable1\n",
       "0  value1-value2-value3         value1        value1\n",
       "1  value3-value1-value5  value3-value1        value1\n",
       "2         vvdfvalue1656     vvdfvalue1        value1"
      ]
     },
     "execution_count": 107,
     "metadata": {},
     "output_type": "execute_result"
    }
   ],
   "source": [
    "df"
   ]
  },
  {
   "cell_type": "code",
   "execution_count": 8,
   "id": "7f316b91-fd42-4ef5-af44-aeaeff1e27e2",
   "metadata": {},
   "outputs": [
    {
     "data": {
      "text/html": [
       "<div>\n",
       "<style scoped>\n",
       "    .dataframe tbody tr th:only-of-type {\n",
       "        vertical-align: middle;\n",
       "    }\n",
       "\n",
       "    .dataframe tbody tr th {\n",
       "        vertical-align: top;\n",
       "    }\n",
       "\n",
       "    .dataframe thead th {\n",
       "        text-align: right;\n",
       "    }\n",
       "</style>\n",
       "<table border=\"1\" class=\"dataframe\">\n",
       "  <thead>\n",
       "    <tr style=\"text-align: right;\">\n",
       "      <th></th>\n",
       "      <th>date</th>\n",
       "    </tr>\n",
       "  </thead>\n",
       "  <tbody>\n",
       "    <tr>\n",
       "      <th>0</th>\n",
       "      <td>202103151345</td>\n",
       "    </tr>\n",
       "    <tr>\n",
       "      <th>1</th>\n",
       "      <td>20210315 1345</td>\n",
       "    </tr>\n",
       "    <tr>\n",
       "      <th>2</th>\n",
       "      <td>0715</td>\n",
       "    </tr>\n",
       "    <tr>\n",
       "      <th>3</th>\n",
       "      <td>07-15</td>\n",
       "    </tr>\n",
       "    <tr>\n",
       "      <th>4</th>\n",
       "      <td>20210315</td>\n",
       "    </tr>\n",
       "    <tr>\n",
       "      <th>5</th>\n",
       "      <td>1</td>\n",
       "    </tr>\n",
       "  </tbody>\n",
       "</table>\n",
       "</div>"
      ],
      "text/plain": [
       "            date\n",
       "0   202103151345\n",
       "1  20210315 1345\n",
       "2           0715\n",
       "3          07-15\n",
       "4       20210315\n",
       "5              1"
      ]
     },
     "execution_count": 8,
     "metadata": {},
     "output_type": "execute_result"
    }
   ],
   "source": [
    "data = {'date': ['202103151345', '20210315 1345', '0715', '07-15', '20210315','1']} \n",
    "df = pd.DataFrame(data)\n",
    "df"
   ]
  },
  {
   "cell_type": "code",
   "execution_count": 56,
   "id": "4740da00-0207-4450-b34b-029e67b18bb4",
   "metadata": {},
   "outputs": [
    {
     "data": {
      "text/html": [
       "<div>\n",
       "<style scoped>\n",
       "    .dataframe tbody tr th:only-of-type {\n",
       "        vertical-align: middle;\n",
       "    }\n",
       "\n",
       "    .dataframe tbody tr th {\n",
       "        vertical-align: top;\n",
       "    }\n",
       "\n",
       "    .dataframe thead th {\n",
       "        text-align: right;\n",
       "    }\n",
       "</style>\n",
       "<table border=\"1\" class=\"dataframe\">\n",
       "  <thead>\n",
       "    <tr style=\"text-align: right;\">\n",
       "      <th></th>\n",
       "      <th>date</th>\n",
       "    </tr>\n",
       "  </thead>\n",
       "  <tbody>\n",
       "    <tr>\n",
       "      <th>0</th>\n",
       "      <td>NaT</td>\n",
       "    </tr>\n",
       "    <tr>\n",
       "      <th>1</th>\n",
       "      <td>2021-03-15 13:45:00</td>\n",
       "    </tr>\n",
       "    <tr>\n",
       "      <th>2</th>\n",
       "      <td>NaT</td>\n",
       "    </tr>\n",
       "    <tr>\n",
       "      <th>3</th>\n",
       "      <td>NaT</td>\n",
       "    </tr>\n",
       "    <tr>\n",
       "      <th>4</th>\n",
       "      <td>NaT</td>\n",
       "    </tr>\n",
       "    <tr>\n",
       "      <th>5</th>\n",
       "      <td>NaT</td>\n",
       "    </tr>\n",
       "  </tbody>\n",
       "</table>\n",
       "</div>"
      ],
      "text/plain": [
       "                 date\n",
       "0                 NaT\n",
       "1 2021-03-15 13:45:00\n",
       "2                 NaT\n",
       "3                 NaT\n",
       "4                 NaT\n",
       "5                 NaT"
      ]
     },
     "execution_count": 56,
     "metadata": {},
     "output_type": "execute_result"
    }
   ],
   "source": [
    "df['date']=pd.to_datetime(df['date'], format='%Y%m%d %H%M' , errors='coerce')\n",
    "# raise -> 변환에 실패하면 오류\n",
    "# coerce -> 변환에 실패하면 NaT로 변환\n",
    "# ignore -> 변환에 실패하면 원본 데이터 반환\n",
    "\n",
    "df"
   ]
  },
  {
   "cell_type": "code",
   "execution_count": 10,
   "id": "b5efab38-2fbc-4194-b19b-2129c8d2c739",
   "metadata": {},
   "outputs": [
    {
     "data": {
      "text/html": [
       "<div>\n",
       "<style scoped>\n",
       "    .dataframe tbody tr th:only-of-type {\n",
       "        vertical-align: middle;\n",
       "    }\n",
       "\n",
       "    .dataframe tbody tr th {\n",
       "        vertical-align: top;\n",
       "    }\n",
       "\n",
       "    .dataframe thead th {\n",
       "        text-align: right;\n",
       "    }\n",
       "</style>\n",
       "<table border=\"1\" class=\"dataframe\">\n",
       "  <thead>\n",
       "    <tr style=\"text-align: right;\">\n",
       "      <th></th>\n",
       "      <th>date</th>\n",
       "    </tr>\n",
       "  </thead>\n",
       "  <tbody>\n",
       "    <tr>\n",
       "      <th>0</th>\n",
       "      <td>NaT</td>\n",
       "    </tr>\n",
       "    <tr>\n",
       "      <th>1</th>\n",
       "      <td>NaT</td>\n",
       "    </tr>\n",
       "    <tr>\n",
       "      <th>2</th>\n",
       "      <td>07:15:00</td>\n",
       "    </tr>\n",
       "    <tr>\n",
       "      <th>3</th>\n",
       "      <td>NaT</td>\n",
       "    </tr>\n",
       "    <tr>\n",
       "      <th>4</th>\n",
       "      <td>NaT</td>\n",
       "    </tr>\n",
       "    <tr>\n",
       "      <th>5</th>\n",
       "      <td>NaT</td>\n",
       "    </tr>\n",
       "  </tbody>\n",
       "</table>\n",
       "</div>"
      ],
      "text/plain": [
       "       date\n",
       "0       NaT\n",
       "1       NaT\n",
       "2  07:15:00\n",
       "3       NaT\n",
       "4       NaT\n",
       "5       NaT"
      ]
     },
     "execution_count": 10,
     "metadata": {},
     "output_type": "execute_result"
    }
   ],
   "source": [
    "df['date']=pd.to_datetime(df['date'], format='%H%M' , errors='coerce').dt.time\n",
    "df"
   ]
  },
  {
   "cell_type": "code",
   "execution_count": 62,
   "id": "7497e086-41ab-40b5-9633-cfb5a3542e67",
   "metadata": {},
   "outputs": [
    {
     "data": {
      "text/html": [
       "<div>\n",
       "<style scoped>\n",
       "    .dataframe tbody tr th:only-of-type {\n",
       "        vertical-align: middle;\n",
       "    }\n",
       "\n",
       "    .dataframe tbody tr th {\n",
       "        vertical-align: top;\n",
       "    }\n",
       "\n",
       "    .dataframe thead th {\n",
       "        text-align: right;\n",
       "    }\n",
       "</style>\n",
       "<table border=\"1\" class=\"dataframe\">\n",
       "  <thead>\n",
       "    <tr style=\"text-align: right;\">\n",
       "      <th></th>\n",
       "      <th>date</th>\n",
       "    </tr>\n",
       "  </thead>\n",
       "  <tbody>\n",
       "    <tr>\n",
       "      <th>0</th>\n",
       "      <td>202103151345</td>\n",
       "    </tr>\n",
       "    <tr>\n",
       "      <th>1</th>\n",
       "      <td>20210315 1345</td>\n",
       "    </tr>\n",
       "    <tr>\n",
       "      <th>2</th>\n",
       "      <td>0715</td>\n",
       "    </tr>\n",
       "    <tr>\n",
       "      <th>3</th>\n",
       "      <td>07-15</td>\n",
       "    </tr>\n",
       "    <tr>\n",
       "      <th>4</th>\n",
       "      <td>20210315</td>\n",
       "    </tr>\n",
       "    <tr>\n",
       "      <th>5</th>\n",
       "      <td>1</td>\n",
       "    </tr>\n",
       "  </tbody>\n",
       "</table>\n",
       "</div>"
      ],
      "text/plain": [
       "            date\n",
       "0   202103151345\n",
       "1  20210315 1345\n",
       "2           0715\n",
       "3          07-15\n",
       "4       20210315\n",
       "5              1"
      ]
     },
     "execution_count": 62,
     "metadata": {},
     "output_type": "execute_result"
    }
   ],
   "source": [
    "df['date']=pd.to_datetime(df['date'], format='%Y%m%d %H%M' , errors='ignore')\n",
    "df"
   ]
  },
  {
   "cell_type": "code",
   "execution_count": 95,
   "id": "17c077e8-a973-47e0-8f91-c8d9f22a8326",
   "metadata": {},
   "outputs": [
    {
     "data": {
      "text/html": [
       "<div>\n",
       "<style scoped>\n",
       "    .dataframe tbody tr th:only-of-type {\n",
       "        vertical-align: middle;\n",
       "    }\n",
       "\n",
       "    .dataframe tbody tr th {\n",
       "        vertical-align: top;\n",
       "    }\n",
       "\n",
       "    .dataframe thead th {\n",
       "        text-align: right;\n",
       "    }\n",
       "</style>\n",
       "<table border=\"1\" class=\"dataframe\">\n",
       "  <thead>\n",
       "    <tr style=\"text-align: right;\">\n",
       "      <th></th>\n",
       "      <th>hour</th>\n",
       "    </tr>\n",
       "  </thead>\n",
       "  <tbody>\n",
       "    <tr>\n",
       "      <th>0</th>\n",
       "      <td>1</td>\n",
       "    </tr>\n",
       "    <tr>\n",
       "      <th>1</th>\n",
       "      <td>2</td>\n",
       "    </tr>\n",
       "    <tr>\n",
       "      <th>2</th>\n",
       "      <td>12</td>\n",
       "    </tr>\n",
       "    <tr>\n",
       "      <th>3</th>\n",
       "      <td>22</td>\n",
       "    </tr>\n",
       "    <tr>\n",
       "      <th>4</th>\n",
       "      <td>11</td>\n",
       "    </tr>\n",
       "  </tbody>\n",
       "</table>\n",
       "</div>"
      ],
      "text/plain": [
       "  hour\n",
       "0    1\n",
       "1    2\n",
       "2   12\n",
       "3   22\n",
       "4   11"
      ]
     },
     "execution_count": 95,
     "metadata": {},
     "output_type": "execute_result"
    }
   ],
   "source": [
    "data = {'hour':['1', '2', '12', '22', '11']}\n",
    "df = pd.DataFrame(data)\n",
    "df"
   ]
  },
  {
   "cell_type": "code",
   "execution_count": 85,
   "id": "6b5a79ab-1c34-4037-b0db-a9757490fd8c",
   "metadata": {},
   "outputs": [
    {
     "data": {
      "text/plain": [
       "0         NaT\n",
       "1         NaT\n",
       "2    01:02:00\n",
       "3    02:02:00\n",
       "4    01:01:00\n",
       "Name: hour, dtype: object"
      ]
     },
     "execution_count": 85,
     "metadata": {},
     "output_type": "execute_result"
    }
   ],
   "source": [
    "pd.to_datetime(df['hour'], format='%H%M', errors='coerce').dt.time"
   ]
  },
  {
   "cell_type": "code",
   "execution_count": 94,
   "id": "182c4454-cdb2-41f0-be8d-a48bf6f56f68",
   "metadata": {},
   "outputs": [
    {
     "data": {
      "text/plain": [
       "0    00:01:00\n",
       "1    00:02:00\n",
       "2    00:12:00\n",
       "3    00:22:00\n",
       "4    00:11:00\n",
       "Name: hour, dtype: object"
      ]
     },
     "execution_count": 94,
     "metadata": {},
     "output_type": "execute_result"
    }
   ],
   "source": [
    "df['hour']=df['hour'].str.rjust(4, fillchar='0')\n",
    "#4자리 중 오른쪽에 글자가 들어가고 남은 자리는 0으로 채운다\n",
    "pd.to_datetime(df['hour'], format='%H%M', errors='coerce').dt.time"
   ]
  },
  {
   "cell_type": "code",
   "execution_count": 96,
   "id": "9a9c2c05-0827-487f-a10f-770ae0a038f7",
   "metadata": {},
   "outputs": [
    {
     "data": {
      "text/plain": [
       "0    10:00:00\n",
       "1    20:00:00\n",
       "2    12:00:00\n",
       "3    22:00:00\n",
       "4    11:00:00\n",
       "Name: hour, dtype: object"
      ]
     },
     "execution_count": 96,
     "metadata": {},
     "output_type": "execute_result"
    }
   ],
   "source": [
    "df['hour']=df['hour'].str.ljust(4, fillchar='0')\n",
    "#4자리 중 왼쪽에 글자가 들어가고 남은 자리는 0으로 채운다\n",
    "pd.to_datetime(df['hour'], format='%H%M', errors='coerce').dt.time"
   ]
  },
  {
   "cell_type": "code",
   "execution_count": 97,
   "id": "62ec2816-6666-4ede-8d29-898bcacced33",
   "metadata": {},
   "outputs": [],
   "source": [
    "df.to_csv('new_program.csv', index=False)\n",
    "#df.to_csv('new_program.csv', index=False, encoding='cp949')\n",
    "# 데이터프레임을 csv로 저장, index 표시하지 않고 cp949 인코딩"
   ]
  },
  {
   "cell_type": "code",
   "execution_count": 35,
   "id": "994cfdfb-edb1-4b6b-a08f-a8a19033a751",
   "metadata": {},
   "outputs": [],
   "source": [
    "df = pd.read_csv('program.csv', encoding='utf-8')"
   ]
  },
  {
   "cell_type": "code",
   "execution_count": 36,
   "id": "e05a8bc0-48c3-4ea2-8682-4e60f8e3300e",
   "metadata": {},
   "outputs": [
    {
     "data": {
      "text/html": [
       "<div>\n",
       "<style scoped>\n",
       "    .dataframe tbody tr th:only-of-type {\n",
       "        vertical-align: middle;\n",
       "    }\n",
       "\n",
       "    .dataframe tbody tr th {\n",
       "        vertical-align: top;\n",
       "    }\n",
       "\n",
       "    .dataframe thead th {\n",
       "        text-align: right;\n",
       "    }\n",
       "</style>\n",
       "<table border=\"1\" class=\"dataframe\">\n",
       "  <thead>\n",
       "    <tr style=\"text-align: right;\">\n",
       "      <th></th>\n",
       "      <th>코드</th>\n",
       "      <th>프로그램1</th>\n",
       "      <th>프로그램2</th>\n",
       "      <th>프로그램3</th>\n",
       "      <th>프로그램4</th>\n",
       "      <th>생년월일</th>\n",
       "      <th>출생시간</th>\n",
       "    </tr>\n",
       "  </thead>\n",
       "  <tbody>\n",
       "    <tr>\n",
       "      <th>0</th>\n",
       "      <td>A</td>\n",
       "      <td>57</td>\n",
       "      <td>24</td>\n",
       "      <td>85</td>\n",
       "      <td>47</td>\n",
       "      <td>1995/12/25</td>\n",
       "      <td>105</td>\n",
       "    </tr>\n",
       "    <tr>\n",
       "      <th>1</th>\n",
       "      <td>B</td>\n",
       "      <td>56</td>\n",
       "      <td>98</td>\n",
       "      <td>65</td>\n",
       "      <td>0</td>\n",
       "      <td>1997/05/21</td>\n",
       "      <td>1205</td>\n",
       "    </tr>\n",
       "    <tr>\n",
       "      <th>2</th>\n",
       "      <td>C</td>\n",
       "      <td>62</td>\n",
       "      <td>89</td>\n",
       "      <td>56</td>\n",
       "      <td>66</td>\n",
       "      <td>1997/04/07</td>\n",
       "      <td>172</td>\n",
       "    </tr>\n",
       "    <tr>\n",
       "      <th>3</th>\n",
       "      <td>D</td>\n",
       "      <td>54</td>\n",
       "      <td>87</td>\n",
       "      <td>94</td>\n",
       "      <td>54</td>\n",
       "      <td>1995/02/04</td>\n",
       "      <td>1101</td>\n",
       "    </tr>\n",
       "    <tr>\n",
       "      <th>4</th>\n",
       "      <td>E</td>\n",
       "      <td>54</td>\n",
       "      <td>54</td>\n",
       "      <td>47</td>\n",
       "      <td>84</td>\n",
       "      <td>1994/07/03</td>\n",
       "      <td>122</td>\n",
       "    </tr>\n",
       "    <tr>\n",
       "      <th>5</th>\n",
       "      <td>F</td>\n",
       "      <td>23</td>\n",
       "      <td>51</td>\n",
       "      <td>71</td>\n",
       "      <td>68</td>\n",
       "      <td>1996/05/21</td>\n",
       "      <td>1425</td>\n",
       "    </tr>\n",
       "  </tbody>\n",
       "</table>\n",
       "</div>"
      ],
      "text/plain": [
       "  코드  프로그램1  프로그램2  프로그램3  프로그램4        생년월일  출생시간\n",
       "0  A     57     24     85     47  1995/12/25   105\n",
       "1  B     56     98     65      0  1997/05/21  1205\n",
       "2  C     62     89     56     66  1997/04/07   172\n",
       "3  D     54     87     94     54  1995/02/04  1101\n",
       "4  E     54     54     47     84  1994/07/03   122\n",
       "5  F     23     51     71     68  1996/05/21  1425"
      ]
     },
     "execution_count": 36,
     "metadata": {},
     "output_type": "execute_result"
    }
   ],
   "source": [
    "df"
   ]
  },
  {
   "cell_type": "code",
   "execution_count": 37,
   "id": "e33d5d4e-338b-49e3-bfbb-db43a1ea474a",
   "metadata": {},
   "outputs": [],
   "source": [
    "df['출생시간'] = df['출생시간'].astype(str)\n",
    "df['출생시간'] = df['출생시간'].str.ljust(4, fillchar='0')\n",
    "\n",
    "df['출생시간'] = pd.to_datetime(df['출생시간'], format='%H%M', errors='coerce').dt.time"
   ]
  },
  {
   "cell_type": "code",
   "execution_count": 38,
   "id": "3b0bbc02-274a-4c0d-afbc-f2c0ce12117f",
   "metadata": {},
   "outputs": [
    {
     "data": {
      "text/html": [
       "<div>\n",
       "<style scoped>\n",
       "    .dataframe tbody tr th:only-of-type {\n",
       "        vertical-align: middle;\n",
       "    }\n",
       "\n",
       "    .dataframe tbody tr th {\n",
       "        vertical-align: top;\n",
       "    }\n",
       "\n",
       "    .dataframe thead th {\n",
       "        text-align: right;\n",
       "    }\n",
       "</style>\n",
       "<table border=\"1\" class=\"dataframe\">\n",
       "  <thead>\n",
       "    <tr style=\"text-align: right;\">\n",
       "      <th></th>\n",
       "      <th>코드</th>\n",
       "      <th>프로그램1</th>\n",
       "      <th>프로그램2</th>\n",
       "      <th>프로그램3</th>\n",
       "      <th>프로그램4</th>\n",
       "      <th>생년월일</th>\n",
       "      <th>출생시간</th>\n",
       "    </tr>\n",
       "  </thead>\n",
       "  <tbody>\n",
       "    <tr>\n",
       "      <th>0</th>\n",
       "      <td>A</td>\n",
       "      <td>57</td>\n",
       "      <td>24</td>\n",
       "      <td>85</td>\n",
       "      <td>47</td>\n",
       "      <td>1995/12/25</td>\n",
       "      <td>10:50:00</td>\n",
       "    </tr>\n",
       "    <tr>\n",
       "      <th>1</th>\n",
       "      <td>B</td>\n",
       "      <td>56</td>\n",
       "      <td>98</td>\n",
       "      <td>65</td>\n",
       "      <td>0</td>\n",
       "      <td>1997/05/21</td>\n",
       "      <td>12:05:00</td>\n",
       "    </tr>\n",
       "    <tr>\n",
       "      <th>2</th>\n",
       "      <td>C</td>\n",
       "      <td>62</td>\n",
       "      <td>89</td>\n",
       "      <td>56</td>\n",
       "      <td>66</td>\n",
       "      <td>1997/04/07</td>\n",
       "      <td>17:20:00</td>\n",
       "    </tr>\n",
       "    <tr>\n",
       "      <th>3</th>\n",
       "      <td>D</td>\n",
       "      <td>54</td>\n",
       "      <td>87</td>\n",
       "      <td>94</td>\n",
       "      <td>54</td>\n",
       "      <td>1995/02/04</td>\n",
       "      <td>11:01:00</td>\n",
       "    </tr>\n",
       "    <tr>\n",
       "      <th>4</th>\n",
       "      <td>E</td>\n",
       "      <td>54</td>\n",
       "      <td>54</td>\n",
       "      <td>47</td>\n",
       "      <td>84</td>\n",
       "      <td>1994/07/03</td>\n",
       "      <td>12:20:00</td>\n",
       "    </tr>\n",
       "    <tr>\n",
       "      <th>5</th>\n",
       "      <td>F</td>\n",
       "      <td>23</td>\n",
       "      <td>51</td>\n",
       "      <td>71</td>\n",
       "      <td>68</td>\n",
       "      <td>1996/05/21</td>\n",
       "      <td>14:25:00</td>\n",
       "    </tr>\n",
       "  </tbody>\n",
       "</table>\n",
       "</div>"
      ],
      "text/plain": [
       "  코드  프로그램1  프로그램2  프로그램3  프로그램4        생년월일      출생시간\n",
       "0  A     57     24     85     47  1995/12/25  10:50:00\n",
       "1  B     56     98     65      0  1997/05/21  12:05:00\n",
       "2  C     62     89     56     66  1997/04/07  17:20:00\n",
       "3  D     54     87     94     54  1995/02/04  11:01:00\n",
       "4  E     54     54     47     84  1994/07/03  12:20:00\n",
       "5  F     23     51     71     68  1996/05/21  14:25:00"
      ]
     },
     "execution_count": 38,
     "metadata": {},
     "output_type": "execute_result"
    }
   ],
   "source": [
    "df"
   ]
  },
  {
   "cell_type": "code",
   "execution_count": 39,
   "id": "ea8cf0ae-e920-43cb-a410-8f7bcfbda490",
   "metadata": {},
   "outputs": [],
   "source": [
    "df['프로그램1'] = df['프로그램1'].astype(str)\n",
    "df['프로그램2'] = df['프로그램2'].astype(str)\n",
    "df['프로그램3'] = df['프로그램3'].astype(str)\n",
    "df['프로그램4'] = df['프로그램4'].astype(str)\n",
    "\n",
    "df['프로그램'] = df['프로그램1'] + '-' + df['프로그램2'] + '-' + df['프로그램3'] + '-' + df['프로그램4']"
   ]
  },
  {
   "cell_type": "code",
   "execution_count": 40,
   "id": "1842977a-7bb2-4b8c-bc08-9bc114e7447b",
   "metadata": {},
   "outputs": [],
   "source": [
    "df = df.drop(['프로그램1','프로그램2','프로그램3','프로그램4'], axis=1)"
   ]
  },
  {
   "cell_type": "code",
   "execution_count": 41,
   "id": "4717bb45-88f2-4fe5-980e-2a5675797bbc",
   "metadata": {},
   "outputs": [
    {
     "data": {
      "text/html": [
       "<div>\n",
       "<style scoped>\n",
       "    .dataframe tbody tr th:only-of-type {\n",
       "        vertical-align: middle;\n",
       "    }\n",
       "\n",
       "    .dataframe tbody tr th {\n",
       "        vertical-align: top;\n",
       "    }\n",
       "\n",
       "    .dataframe thead th {\n",
       "        text-align: right;\n",
       "    }\n",
       "</style>\n",
       "<table border=\"1\" class=\"dataframe\">\n",
       "  <thead>\n",
       "    <tr style=\"text-align: right;\">\n",
       "      <th></th>\n",
       "      <th>코드</th>\n",
       "      <th>생년월일</th>\n",
       "      <th>출생시간</th>\n",
       "      <th>프로그램</th>\n",
       "    </tr>\n",
       "  </thead>\n",
       "  <tbody>\n",
       "    <tr>\n",
       "      <th>0</th>\n",
       "      <td>A</td>\n",
       "      <td>1995/12/25</td>\n",
       "      <td>10:50:00</td>\n",
       "      <td>57-24-85-47</td>\n",
       "    </tr>\n",
       "    <tr>\n",
       "      <th>1</th>\n",
       "      <td>B</td>\n",
       "      <td>1997/05/21</td>\n",
       "      <td>12:05:00</td>\n",
       "      <td>56-98-65-0</td>\n",
       "    </tr>\n",
       "    <tr>\n",
       "      <th>2</th>\n",
       "      <td>C</td>\n",
       "      <td>1997/04/07</td>\n",
       "      <td>17:20:00</td>\n",
       "      <td>62-89-56-66</td>\n",
       "    </tr>\n",
       "    <tr>\n",
       "      <th>3</th>\n",
       "      <td>D</td>\n",
       "      <td>1995/02/04</td>\n",
       "      <td>11:01:00</td>\n",
       "      <td>54-87-94-54</td>\n",
       "    </tr>\n",
       "    <tr>\n",
       "      <th>4</th>\n",
       "      <td>E</td>\n",
       "      <td>1994/07/03</td>\n",
       "      <td>12:20:00</td>\n",
       "      <td>54-54-47-84</td>\n",
       "    </tr>\n",
       "    <tr>\n",
       "      <th>5</th>\n",
       "      <td>F</td>\n",
       "      <td>1996/05/21</td>\n",
       "      <td>14:25:00</td>\n",
       "      <td>23-51-71-68</td>\n",
       "    </tr>\n",
       "  </tbody>\n",
       "</table>\n",
       "</div>"
      ],
      "text/plain": [
       "  코드        생년월일      출생시간         프로그램\n",
       "0  A  1995/12/25  10:50:00  57-24-85-47\n",
       "1  B  1997/05/21  12:05:00   56-98-65-0\n",
       "2  C  1997/04/07  17:20:00  62-89-56-66\n",
       "3  D  1995/02/04  11:01:00  54-87-94-54\n",
       "4  E  1994/07/03  12:20:00  54-54-47-84\n",
       "5  F  1996/05/21  14:25:00  23-51-71-68"
      ]
     },
     "execution_count": 41,
     "metadata": {},
     "output_type": "execute_result"
    }
   ],
   "source": [
    "df"
   ]
  },
  {
   "cell_type": "code",
   "execution_count": 26,
   "id": "5c83b6cb-a8c7-41d7-a6a6-cfabf0bbdca4",
   "metadata": {},
   "outputs": [],
   "source": [
    "import pandas as pd\n",
    "import numpy as np\n",
    "\n",
    "data = {\n",
    "    'Numeric1' : [1, np.nan, 3, 4],\n",
    "    'Numeric2' : [5, 6, np.nan, 8.2],\n",
    "    'Category' : ['dog', np.nan, 'cat', 'dog']\n",
    "}\n",
    "\n",
    "df = pd.DataFrame(data)"
   ]
  },
  {
   "cell_type": "code",
   "execution_count": 27,
   "id": "33384ac5-4362-4e12-b548-1a8a7d843131",
   "metadata": {},
   "outputs": [
    {
     "data": {
      "text/plain": [
       "1    6.0\n",
       "3    8.2\n",
       "Name: Numeric2, dtype: float64"
      ]
     },
     "execution_count": 27,
     "metadata": {},
     "output_type": "execute_result"
    }
   ],
   "source": [
    "df['Numeric2'][df['Numeric2']>5]"
   ]
  },
  {
   "cell_type": "code",
   "execution_count": 28,
   "id": "7b611fef-8986-4138-95b4-24c9d7c28972",
   "metadata": {},
   "outputs": [
    {
     "data": {
      "text/html": [
       "<div>\n",
       "<style scoped>\n",
       "    .dataframe tbody tr th:only-of-type {\n",
       "        vertical-align: middle;\n",
       "    }\n",
       "\n",
       "    .dataframe tbody tr th {\n",
       "        vertical-align: top;\n",
       "    }\n",
       "\n",
       "    .dataframe thead th {\n",
       "        text-align: right;\n",
       "    }\n",
       "</style>\n",
       "<table border=\"1\" class=\"dataframe\">\n",
       "  <thead>\n",
       "    <tr style=\"text-align: right;\">\n",
       "      <th></th>\n",
       "      <th>Numeric1</th>\n",
       "      <th>Numeric2</th>\n",
       "      <th>Category</th>\n",
       "    </tr>\n",
       "  </thead>\n",
       "  <tbody>\n",
       "    <tr>\n",
       "      <th>0</th>\n",
       "      <td>1.0</td>\n",
       "      <td>5.0</td>\n",
       "      <td>dog</td>\n",
       "    </tr>\n",
       "    <tr>\n",
       "      <th>1</th>\n",
       "      <td>NaN</td>\n",
       "      <td>6.0</td>\n",
       "      <td>NaN</td>\n",
       "    </tr>\n",
       "    <tr>\n",
       "      <th>2</th>\n",
       "      <td>3.0</td>\n",
       "      <td>NaN</td>\n",
       "      <td>cat</td>\n",
       "    </tr>\n",
       "    <tr>\n",
       "      <th>3</th>\n",
       "      <td>4.0</td>\n",
       "      <td>8.2</td>\n",
       "      <td>dog</td>\n",
       "    </tr>\n",
       "  </tbody>\n",
       "</table>\n",
       "</div>"
      ],
      "text/plain": [
       "   Numeric1  Numeric2 Category\n",
       "0       1.0       5.0      dog\n",
       "1       NaN       6.0      NaN\n",
       "2       3.0       NaN      cat\n",
       "3       4.0       8.2      dog"
      ]
     },
     "execution_count": 28,
     "metadata": {},
     "output_type": "execute_result"
    }
   ],
   "source": [
    "df"
   ]
  },
  {
   "cell_type": "code",
   "execution_count": 12,
   "id": "fae97924-992d-4f3c-8b2b-5d97f23b261d",
   "metadata": {},
   "outputs": [
    {
     "data": {
      "text/html": [
       "<div>\n",
       "<style scoped>\n",
       "    .dataframe tbody tr th:only-of-type {\n",
       "        vertical-align: middle;\n",
       "    }\n",
       "\n",
       "    .dataframe tbody tr th {\n",
       "        vertical-align: top;\n",
       "    }\n",
       "\n",
       "    .dataframe thead th {\n",
       "        text-align: right;\n",
       "    }\n",
       "</style>\n",
       "<table border=\"1\" class=\"dataframe\">\n",
       "  <thead>\n",
       "    <tr style=\"text-align: right;\">\n",
       "      <th></th>\n",
       "      <th>Numeric1</th>\n",
       "      <th>Numeric2</th>\n",
       "      <th>Category</th>\n",
       "    </tr>\n",
       "  </thead>\n",
       "  <tbody>\n",
       "    <tr>\n",
       "      <th>0</th>\n",
       "      <td>1.0</td>\n",
       "      <td>5.0</td>\n",
       "      <td>dog</td>\n",
       "    </tr>\n",
       "    <tr>\n",
       "      <th>3</th>\n",
       "      <td>4.0</td>\n",
       "      <td>8.2</td>\n",
       "      <td>dog</td>\n",
       "    </tr>\n",
       "  </tbody>\n",
       "</table>\n",
       "</div>"
      ],
      "text/plain": [
       "   Numeric1  Numeric2 Category\n",
       "0       1.0       5.0      dog\n",
       "3       4.0       8.2      dog"
      ]
     },
     "execution_count": 12,
     "metadata": {},
     "output_type": "execute_result"
    }
   ],
   "source": [
    "filter_df = df[df['Category']=='dog']\n",
    "filter_df"
   ]
  },
  {
   "cell_type": "code",
   "execution_count": 13,
   "id": "a81f8378-9ac3-47cc-9487-85678144d5bf",
   "metadata": {},
   "outputs": [
    {
     "data": {
      "text/html": [
       "<div>\n",
       "<style scoped>\n",
       "    .dataframe tbody tr th:only-of-type {\n",
       "        vertical-align: middle;\n",
       "    }\n",
       "\n",
       "    .dataframe tbody tr th {\n",
       "        vertical-align: top;\n",
       "    }\n",
       "\n",
       "    .dataframe thead th {\n",
       "        text-align: right;\n",
       "    }\n",
       "</style>\n",
       "<table border=\"1\" class=\"dataframe\">\n",
       "  <thead>\n",
       "    <tr style=\"text-align: right;\">\n",
       "      <th></th>\n",
       "      <th>Numeric1</th>\n",
       "      <th>Numeric2</th>\n",
       "      <th>Category</th>\n",
       "    </tr>\n",
       "  </thead>\n",
       "  <tbody>\n",
       "    <tr>\n",
       "      <th>0</th>\n",
       "      <td>1.0</td>\n",
       "      <td>5.0</td>\n",
       "      <td>dog</td>\n",
       "    </tr>\n",
       "    <tr>\n",
       "      <th>3</th>\n",
       "      <td>4.0</td>\n",
       "      <td>8.2</td>\n",
       "      <td>dog</td>\n",
       "    </tr>\n",
       "  </tbody>\n",
       "</table>\n",
       "</div>"
      ],
      "text/plain": [
       "   Numeric1  Numeric2 Category\n",
       "0       1.0       5.0      dog\n",
       "3       4.0       8.2      dog"
      ]
     },
     "execution_count": 13,
     "metadata": {},
     "output_type": "execute_result"
    }
   ],
   "source": [
    "filter_df_contains = df[df['Category'].str.contains('do', na=False)]\n",
    "filter_df_contains"
   ]
  },
  {
   "cell_type": "code",
   "execution_count": null,
   "id": "55898fb4-4312-4fe4-8bba-b52c14580508",
   "metadata": {},
   "outputs": [],
   "source": []
  }
 ],
 "metadata": {
  "kernelspec": {
   "display_name": "data1",
   "language": "python",
   "name": "data1"
  },
  "language_info": {
   "codemirror_mode": {
    "name": "ipython",
    "version": 3
   },
   "file_extension": ".py",
   "mimetype": "text/x-python",
   "name": "python",
   "nbconvert_exporter": "python",
   "pygments_lexer": "ipython3",
   "version": "3.8.19"
  }
 },
 "nbformat": 4,
 "nbformat_minor": 5
}
