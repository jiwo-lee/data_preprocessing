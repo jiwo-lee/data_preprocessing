{
 "cells": [
  {
   "cell_type": "code",
   "execution_count": 1,
   "id": "4bc11b11-1f18-419a-816d-49e8321c1735",
   "metadata": {},
   "outputs": [],
   "source": [
    "import cv2\n",
    "import os"
   ]
  },
  {
   "cell_type": "code",
   "execution_count": 8,
   "id": "a9600f3a-6f9f-455c-961c-f40e5c5b2396",
   "metadata": {},
   "outputs": [],
   "source": [
    "os.makedirs('LJW', exist_ok=True)\n",
    "# 경로에 LJW라는 이름의 폴더 생성"
   ]
  },
  {
   "cell_type": "code",
   "execution_count": 9,
   "id": "fd6c3958-cb63-4a03-ab97-82d38eb4360f",
   "metadata": {},
   "outputs": [
    {
     "name": "stdout",
     "output_type": "stream",
     "text": [
      "['.ipynb_checkpoints', 'all_dataframes.h5', 'combined_list.json', 'data practice1.ipynb', 'data.pickle', 'dataframe.ipynb', 'dataframes.pickle', 'DataSave.ipynb', 'datatest_dataframe.h5', 'datatest_json.json', 'data_test1.ipynb', 'data_test2.ipynb', 'data_test3.ipynb', 'data_test4.ipynb', 'data_test5.ipynb', 'df1.json', 'df2.json', 'download2.png', 'image', 'ImageData.ipynb', 'ImageData2.ipynb', 'iris.csv', 'LJW', 'monariza.jpg', 'NEW_normalized_gray_image.jpg', 'New_Problem.csv', 'new_program.csv', 'normalized_gray_image.jpg', 'Problem.csv', 'Problem.xlsx', 'program.csv', 'program.xlsx', 'program_1.csv', 'program_1.xlsx', 'Raisin_Dataset.csv', 'resave_normalized_gray_image.jpg', 'test.csv', 'test.txt', 'Untitled.ipynb', 'Untitled1.ipynb', 'wine.csv', 'Zebra.jpg', '국영수.csv', '국영수.xlsx', '데이터', '수업 파일', '이미지 동영상 전처리(정답).ipynb']\n"
     ]
    }
   ],
   "source": [
    "file_list = os.listdir()\n",
    "print(file_list)\n",
    "# 현재 경로에 존재하는 파일 리스트"
   ]
  },
  {
   "cell_type": "code",
   "execution_count": 10,
   "id": "a31be19a-e1ca-4a3a-a520-bb74123294ce",
   "metadata": {},
   "outputs": [],
   "source": [
    "os.rmdir('LJW')\n",
    "# 현재 경로에 존재하는 LJW라는 파일 삭제"
   ]
  },
  {
   "cell_type": "code",
   "execution_count": 12,
   "id": "3d4fc78b-6501-4cff-a931-02209f34d1b3",
   "metadata": {},
   "outputs": [
    {
     "name": "stdout",
     "output_type": "stream",
     "text": [
      "['.ipynb_checkpoints', 'all_dataframes.h5', 'combined_list.json', 'data practice1.ipynb', 'data.pickle', 'dataframe.ipynb', 'dataframes.pickle', 'DataSave.ipynb', 'datatest_dataframe.h5', 'datatest_json.json', 'data_test1.ipynb', 'data_test2.ipynb', 'data_test3.ipynb', 'data_test4.ipynb', 'data_test5.ipynb', 'df1.json', 'df2.json', 'download2.png', 'image', 'ImageData.ipynb', 'ImageData2.ipynb', 'iris.csv', 'monariza.jpg', 'NEW_normalized_gray_image.jpg', 'New_Problem.csv', 'new_program.csv', 'normalized_gray_image.jpg', 'Problem.csv', 'Problem.xlsx', 'program.csv', 'program.xlsx', 'program_1.csv', 'program_1.xlsx', 'Raisin_Dataset.csv', 'resave_normalized_gray_image.jpg', 'test.csv', 'test.txt', 'Untitled.ipynb', 'Untitled1.ipynb', 'wine.csv', 'Zebra.jpg', '국영수.csv', '국영수.xlsx', '데이터', '수업 파일', '이미지 동영상 전처리(정답).ipynb']\n"
     ]
    }
   ],
   "source": [
    "file_list = os.listdir()\n",
    "print(file_list)"
   ]
  },
  {
   "cell_type": "code",
   "execution_count": 14,
   "id": "c6d2d8f3-5057-4ba3-9cbe-2c8b3f1e6ae7",
   "metadata": {},
   "outputs": [
    {
     "name": "stdout",
     "output_type": "stream",
     "text": [
      "C:\\Users\\jiwo2\\Desktop\\data1\n"
     ]
    }
   ],
   "source": [
    "cwd = os.getcwd()\n",
    "print(cwd)\n",
    "# 현재 작업 경로"
   ]
  },
  {
   "cell_type": "code",
   "execution_count": 19,
   "id": "3beecdd4-75e2-458d-9764-1c0404880baa",
   "metadata": {},
   "outputs": [],
   "source": [
    "os.chdir('C:/Users/jiwo2/Desktop/data1')\n",
    "# 현재 작업 경로 변경"
   ]
  },
  {
   "cell_type": "code",
   "execution_count": 20,
   "id": "1714e0de-6894-48ef-b16f-a3cf2777832e",
   "metadata": {},
   "outputs": [
    {
     "name": "stdout",
     "output_type": "stream",
     "text": [
      "C:\\Users\\jiwo2\\Desktop\\data1\n"
     ]
    }
   ],
   "source": [
    "cwd = os.getcwd()\n",
    "print(cwd)"
   ]
  },
  {
   "cell_type": "code",
   "execution_count": 21,
   "id": "b30981ea-d317-4e93-818e-b94cdc55c269",
   "metadata": {},
   "outputs": [
    {
     "data": {
      "text/plain": [
       "True"
      ]
     },
     "execution_count": 21,
     "metadata": {},
     "output_type": "execute_result"
    }
   ],
   "source": [
    "os.path.exists('image')\n",
    "# 파일 또는 경로가 존재하는지"
   ]
  },
  {
   "cell_type": "code",
   "execution_count": null,
   "id": "3110ec79-bf03-4b62-a5fa-be8d19ca21ac",
   "metadata": {},
   "outputs": [],
   "source": [
    "# 시험에 나옴 (cmd에서)\n",
    "# pip freeze > requirements.txt    사용한 패키지 저장\n",
    "# pip install -r requirements.txt  사용한 패키지 실행"
   ]
  }
 ],
 "metadata": {
  "kernelspec": {
   "display_name": "data2",
   "language": "python",
   "name": "data2"
  },
  "language_info": {
   "codemirror_mode": {
    "name": "ipython",
    "version": 3
   },
   "file_extension": ".py",
   "mimetype": "text/x-python",
   "name": "python",
   "nbconvert_exporter": "python",
   "pygments_lexer": "ipython3",
   "version": "3.11.3"
  }
 },
 "nbformat": 4,
 "nbformat_minor": 5
}
