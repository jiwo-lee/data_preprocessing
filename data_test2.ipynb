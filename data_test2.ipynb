{
 "cells": [
  {
   "cell_type": "code",
   "execution_count": 118,
   "id": "716477ba-1229-4505-aefa-fe4978681455",
   "metadata": {},
   "outputs": [],
   "source": [
    "import numpy as np\n",
    "import pandas as pd"
   ]
  },
  {
   "cell_type": "code",
   "execution_count": 119,
   "id": "dffb9832-2122-4ed7-ba8a-d0c0601a9d8f",
   "metadata": {},
   "outputs": [],
   "source": [
    "lst = [1, 100, 2, 5, 6, 7, 8, 9]"
   ]
  },
  {
   "cell_type": "code",
   "execution_count": 120,
   "id": "ba7fc2fe-38ea-49d8-bbce-60c1f0e1e8d0",
   "metadata": {},
   "outputs": [],
   "source": [
    "arr = np.array(lst)"
   ]
  },
  {
   "cell_type": "code",
   "execution_count": 121,
   "id": "03f6da5a-a85d-4422-b052-8a0772772032",
   "metadata": {},
   "outputs": [],
   "source": [
    "arr = np.delete(arr, lst.index(100))\n",
    "arr = np.insert(arr, 2, 3)\n",
    "arr = np.insert(arr, 3, 4)\n",
    "arr = np.append(arr, 10)\n",
    "arr = np.append(arr, 11)"
   ]
  },
  {
   "cell_type": "code",
   "execution_count": 122,
   "id": "39f3a080-782b-4f64-94c4-b4623d4872da",
   "metadata": {},
   "outputs": [],
   "source": [
    "lst.pop(lst.index(100))\n",
    "lst.insert(2, 3)\n",
    "lst.insert(3, 4)\n",
    "lst.append(10)\n",
    "lst.append(11)\n",
    "arr2 = np.array(lst)"
   ]
  },
  {
   "cell_type": "code",
   "execution_count": 123,
   "id": "25a438b2-ab23-40be-b091-8f7597c14b94",
   "metadata": {},
   "outputs": [
    {
     "data": {
      "text/plain": [
       "array([ 1,  2,  3,  4,  5,  6,  7,  8,  9, 10, 11])"
      ]
     },
     "execution_count": 123,
     "metadata": {},
     "output_type": "execute_result"
    }
   ],
   "source": [
    "arr"
   ]
  },
  {
   "cell_type": "code",
   "execution_count": 124,
   "id": "37f4fac3-f061-47b6-90c0-280fa702270d",
   "metadata": {},
   "outputs": [
    {
     "data": {
      "text/plain": [
       "array([ 1,  2,  3,  4,  5,  6,  7,  8,  9, 10, 11])"
      ]
     },
     "execution_count": 124,
     "metadata": {},
     "output_type": "execute_result"
    }
   ],
   "source": [
    "arr2"
   ]
  },
  {
   "cell_type": "code",
   "execution_count": 125,
   "id": "0e812af5-2c4f-456a-8ebd-4d045952ad08",
   "metadata": {},
   "outputs": [],
   "source": [
    "A = arr[arr <= 5]\n",
    "B = arr[arr < 4]"
   ]
  },
  {
   "cell_type": "code",
   "execution_count": 126,
   "id": "4d78e9c3-5561-4e5c-8ff7-3a9376b16b65",
   "metadata": {},
   "outputs": [
    {
     "data": {
      "text/plain": [
       "array([1, 2, 3, 4, 5])"
      ]
     },
     "execution_count": 126,
     "metadata": {},
     "output_type": "execute_result"
    }
   ],
   "source": [
    "A"
   ]
  },
  {
   "cell_type": "code",
   "execution_count": 127,
   "id": "5285ac94-bcc5-4885-bc05-fbe4e8a54253",
   "metadata": {},
   "outputs": [
    {
     "data": {
      "text/plain": [
       "array([1, 2, 3])"
      ]
     },
     "execution_count": 127,
     "metadata": {},
     "output_type": "execute_result"
    }
   ],
   "source": [
    "B"
   ]
  },
  {
   "cell_type": "code",
   "execution_count": 128,
   "id": "6567c611-18a4-4269-b74b-3e879c5aa952",
   "metadata": {},
   "outputs": [],
   "source": [
    "name_phone = { '이름' : ['가', '나', '다', '라', '마'],\n",
    "              '전화번호' : [0, 1, 2, 3, 4]}"
   ]
  },
  {
   "cell_type": "code",
   "execution_count": 129,
   "id": "a441d7d9-1718-44cc-b566-3b502995f52e",
   "metadata": {},
   "outputs": [],
   "source": [
    "df = pd.DataFrame(name_phone)"
   ]
  },
  {
   "cell_type": "code",
   "execution_count": 130,
   "id": "6ba017a4-bec3-404e-9c91-95ceb62b7415",
   "metadata": {},
   "outputs": [
    {
     "data": {
      "text/html": [
       "<div>\n",
       "<style scoped>\n",
       "    .dataframe tbody tr th:only-of-type {\n",
       "        vertical-align: middle;\n",
       "    }\n",
       "\n",
       "    .dataframe tbody tr th {\n",
       "        vertical-align: top;\n",
       "    }\n",
       "\n",
       "    .dataframe thead th {\n",
       "        text-align: right;\n",
       "    }\n",
       "</style>\n",
       "<table border=\"1\" class=\"dataframe\">\n",
       "  <thead>\n",
       "    <tr style=\"text-align: right;\">\n",
       "      <th></th>\n",
       "      <th>이름</th>\n",
       "      <th>전화번호</th>\n",
       "    </tr>\n",
       "  </thead>\n",
       "  <tbody>\n",
       "    <tr>\n",
       "      <th>0</th>\n",
       "      <td>가</td>\n",
       "      <td>0</td>\n",
       "    </tr>\n",
       "    <tr>\n",
       "      <th>1</th>\n",
       "      <td>나</td>\n",
       "      <td>1</td>\n",
       "    </tr>\n",
       "    <tr>\n",
       "      <th>2</th>\n",
       "      <td>다</td>\n",
       "      <td>2</td>\n",
       "    </tr>\n",
       "    <tr>\n",
       "      <th>3</th>\n",
       "      <td>라</td>\n",
       "      <td>3</td>\n",
       "    </tr>\n",
       "    <tr>\n",
       "      <th>4</th>\n",
       "      <td>마</td>\n",
       "      <td>4</td>\n",
       "    </tr>\n",
       "  </tbody>\n",
       "</table>\n",
       "</div>"
      ],
      "text/plain": [
       "  이름  전화번호\n",
       "0  가     0\n",
       "1  나     1\n",
       "2  다     2\n",
       "3  라     3\n",
       "4  마     4"
      ]
     },
     "execution_count": 130,
     "metadata": {},
     "output_type": "execute_result"
    }
   ],
   "source": [
    "df"
   ]
  },
  {
   "cell_type": "code",
   "execution_count": 131,
   "id": "5d9994f2-4d74-4dd7-9d14-1ee3ca8e70b4",
   "metadata": {},
   "outputs": [],
   "source": [
    "df2 = pd.read_csv('test.csv', encoding='cp949')"
   ]
  },
  {
   "cell_type": "code",
   "execution_count": 132,
   "id": "252556ba-9e77-4d37-8c84-10fb23d64f50",
   "metadata": {},
   "outputs": [
    {
     "data": {
      "text/html": [
       "<div>\n",
       "<style scoped>\n",
       "    .dataframe tbody tr th:only-of-type {\n",
       "        vertical-align: middle;\n",
       "    }\n",
       "\n",
       "    .dataframe tbody tr th {\n",
       "        vertical-align: top;\n",
       "    }\n",
       "\n",
       "    .dataframe thead th {\n",
       "        text-align: right;\n",
       "    }\n",
       "</style>\n",
       "<table border=\"1\" class=\"dataframe\">\n",
       "  <thead>\n",
       "    <tr style=\"text-align: right;\">\n",
       "      <th></th>\n",
       "      <th>연령</th>\n",
       "      <th>학력</th>\n",
       "      <th>성과능력</th>\n",
       "      <th>성과태도</th>\n",
       "    </tr>\n",
       "  </thead>\n",
       "  <tbody>\n",
       "    <tr>\n",
       "      <th>0</th>\n",
       "      <td>26~30세</td>\n",
       "      <td>대학원졸업</td>\n",
       "      <td>5</td>\n",
       "      <td>4</td>\n",
       "    </tr>\n",
       "    <tr>\n",
       "      <th>1</th>\n",
       "      <td>31세 이상</td>\n",
       "      <td>대학교졸업</td>\n",
       "      <td>4</td>\n",
       "      <td>3</td>\n",
       "    </tr>\n",
       "    <tr>\n",
       "      <th>2</th>\n",
       "      <td>31세 이상</td>\n",
       "      <td>전문대졸업</td>\n",
       "      <td>4</td>\n",
       "      <td>2</td>\n",
       "    </tr>\n",
       "    <tr>\n",
       "      <th>3</th>\n",
       "      <td>26~30세</td>\n",
       "      <td>대학원졸업</td>\n",
       "      <td>4</td>\n",
       "      <td>4</td>\n",
       "    </tr>\n",
       "    <tr>\n",
       "      <th>4</th>\n",
       "      <td>20~25세</td>\n",
       "      <td>대학교졸업</td>\n",
       "      <td>4</td>\n",
       "      <td>4</td>\n",
       "    </tr>\n",
       "  </tbody>\n",
       "</table>\n",
       "</div>"
      ],
      "text/plain": [
       "       연령     학력  성과능력  성과태도\n",
       "0  26~30세  대학원졸업     5     4\n",
       "1  31세 이상  대학교졸업     4     3\n",
       "2  31세 이상  전문대졸업     4     2\n",
       "3  26~30세  대학원졸업     4     4\n",
       "4  20~25세  대학교졸업     4     4"
      ]
     },
     "execution_count": 132,
     "metadata": {},
     "output_type": "execute_result"
    }
   ],
   "source": [
    "df2"
   ]
  },
  {
   "cell_type": "code",
   "execution_count": null,
   "id": "d1609c11-4d34-45ed-aa53-eecd1dc7f76e",
   "metadata": {},
   "outputs": [],
   "source": []
  },
  {
   "cell_type": "code",
   "execution_count": null,
   "id": "032f3a8f-571a-47b5-8997-55666663c4f3",
   "metadata": {},
   "outputs": [],
   "source": []
  }
 ],
 "metadata": {
  "kernelspec": {
   "display_name": "data1",
   "language": "python",
   "name": "data1"
  },
  "language_info": {
   "codemirror_mode": {
    "name": "ipython",
    "version": 3
   },
   "file_extension": ".py",
   "mimetype": "text/x-python",
   "name": "python",
   "nbconvert_exporter": "python",
   "pygments_lexer": "ipython3",
   "version": "3.8.19"
  }
 },
 "nbformat": 4,
 "nbformat_minor": 5
}
