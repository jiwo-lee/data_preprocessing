{
 "cells": [
  {
   "cell_type": "code",
   "execution_count": 1,
   "id": "b8778198-5f2f-4c20-a3de-2f16ccbe4d46",
   "metadata": {},
   "outputs": [
    {
     "name": "stdout",
     "output_type": "stream",
     "text": [
      "50\n"
     ]
    }
   ],
   "source": [
    "a = 20\n",
    "b = 30\n",
    "print(a+b)"
   ]
  },
  {
   "cell_type": "code",
   "execution_count": 2,
   "id": "b732d0e8-d21e-4b7f-a9ac-6df04f9d9110",
   "metadata": {},
   "outputs": [
    {
     "name": "stdout",
     "output_type": "stream",
     "text": [
      "안녕하세요 이지우님 데이터전처리 수업에 오신것을 환영합니다.\n"
     ]
    }
   ],
   "source": [
    "name = '이지우'\n",
    "print('안녕하세요 {}님 데이터전처리 수업에 오신것을 환영합니다.'.format(name))"
   ]
  },
  {
   "cell_type": "code",
   "execution_count": 3,
   "id": "cd3a164f-99f7-4ae0-827c-91401463e009",
   "metadata": {},
   "outputs": [],
   "source": [
    "import numpy as np\n",
    "\n",
    "lst = [1,5,5,7,3,6,88,12,5,74,4,8,64,2,7,89,33,1,6,8,1,5,6,7]\n",
    "arr = np.array(lst)"
   ]
  },
  {
   "cell_type": "code",
   "execution_count": 4,
   "id": "15400f27-6da2-487f-864a-1eec73eb11c8",
   "metadata": {},
   "outputs": [
    {
     "data": {
      "text/plain": [
       "[1, 5, 5, 7, 3, 6, 88, 12, 5, 74, 4, 8, 64, 2, 7, 89, 33, 1, 6, 8, 1, 5, 6, 7]"
      ]
     },
     "execution_count": 4,
     "metadata": {},
     "output_type": "execute_result"
    }
   ],
   "source": [
    "lst"
   ]
  },
  {
   "cell_type": "code",
   "execution_count": 5,
   "id": "d6265b10-aa42-4821-a45f-0d8be5f43aa0",
   "metadata": {},
   "outputs": [
    {
     "data": {
      "text/plain": [
       "array([ 1,  5,  5,  7,  3,  6, 88, 12,  5, 74,  4,  8, 64,  2,  7, 89, 33,\n",
       "        1,  6,  8,  1,  5,  6,  7])"
      ]
     },
     "execution_count": 5,
     "metadata": {},
     "output_type": "execute_result"
    }
   ],
   "source": [
    "arr"
   ]
  },
  {
   "cell_type": "code",
   "execution_count": 6,
   "id": "e13dd3bc-d66a-4ca6-ab9e-a6fb14df09e7",
   "metadata": {},
   "outputs": [
    {
     "name": "stdout",
     "output_type": "stream",
     "text": [
      "[ 7 93 17 12 77]\n"
     ]
    }
   ],
   "source": [
    "print(arr[:5]+arr[5:10])"
   ]
  },
  {
   "cell_type": "code",
   "execution_count": 7,
   "id": "a523bf08-9801-4d50-b820-5f7c65c8d1cc",
   "metadata": {},
   "outputs": [
    {
     "data": {
      "text/plain": [
       "6"
      ]
     },
     "execution_count": 7,
     "metadata": {},
     "output_type": "execute_result"
    }
   ],
   "source": [
    "lst.index(88)"
   ]
  },
  {
   "cell_type": "code",
   "execution_count": 8,
   "id": "754e6be7-559c-4bd9-8011-a92f06fc511b",
   "metadata": {},
   "outputs": [],
   "source": [
    "lst1 = ['Jone-30', 'Park-30', 'Kim-20', 'Lee-10', 'Oh-32', 'Kang-25']"
   ]
  },
  {
   "cell_type": "code",
   "execution_count": 9,
   "id": "1833faee-73e5-4eff-8ef4-53e8019dd5d5",
   "metadata": {},
   "outputs": [
    {
     "data": {
      "text/plain": [
       "'Lee'"
      ]
     },
     "execution_count": 9,
     "metadata": {},
     "output_type": "execute_result"
    }
   ],
   "source": [
    "lst1[3][:3]"
   ]
  },
  {
   "cell_type": "code",
   "execution_count": 10,
   "id": "5bc709c2-8a6d-4ea3-99c9-28cee723d29a",
   "metadata": {},
   "outputs": [],
   "source": [
    "lst2 = ['데이터 전치리 수업, 입니다.', 'Data Preprocesing']"
   ]
  },
  {
   "cell_type": "code",
   "execution_count": 11,
   "id": "212ab97f-dac7-4628-bc64-2905fdb148bd",
   "metadata": {},
   "outputs": [],
   "source": [
    "lst2[0] = lst2[0].replace('데이터 전치리 수업, 입니다.', '데이터 전처리 수업입니다.')\n",
    "lst2[1] = lst2[1].replace('Data Preprocesing', 'Data Preprocessing')"
   ]
  },
  {
   "cell_type": "code",
   "execution_count": 12,
   "id": "34dc342c-45c7-42df-85ac-ee0bd5b63955",
   "metadata": {},
   "outputs": [
    {
     "data": {
      "text/plain": [
       "['데이터 전처리 수업입니다.', 'Data Preprocessing']"
      ]
     },
     "execution_count": 12,
     "metadata": {},
     "output_type": "execute_result"
    }
   ],
   "source": [
    "lst2"
   ]
  },
  {
   "cell_type": "code",
   "execution_count": 14,
   "id": "7334f9ca-95bd-45ab-948c-1667b637b309",
   "metadata": {},
   "outputs": [],
   "source": [
    "arr1 = np.array([1,2,3,4])"
   ]
  },
  {
   "cell_type": "code",
   "execution_count": 15,
   "id": "d023004a-5c25-49e5-96c3-c71f2c53b794",
   "metadata": {},
   "outputs": [
    {
     "data": {
      "text/plain": [
       "array([1, 2, 3, 4])"
      ]
     },
     "execution_count": 15,
     "metadata": {},
     "output_type": "execute_result"
    }
   ],
   "source": [
    "arr1"
   ]
  },
  {
   "cell_type": "code",
   "execution_count": null,
   "id": "4562cead-44fb-481a-a8ac-439d77a71bf5",
   "metadata": {},
   "outputs": [],
   "source": []
  }
 ],
 "metadata": {
  "kernelspec": {
   "display_name": "data1",
   "language": "python",
   "name": "data1"
  },
  "language_info": {
   "codemirror_mode": {
    "name": "ipython",
    "version": 3
   },
   "file_extension": ".py",
   "mimetype": "text/x-python",
   "name": "python",
   "nbconvert_exporter": "python",
   "pygments_lexer": "ipython3",
   "version": "3.8.19"
  }
 },
 "nbformat": 4,
 "nbformat_minor": 5
}
